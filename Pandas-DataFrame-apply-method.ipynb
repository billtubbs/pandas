{
 "cells": [
  {
   "cell_type": "markdown",
   "metadata": {},
   "source": [
    "# Using the Apply Method on a DataFrame"
   ]
  },
  {
   "cell_type": "markdown",
   "metadata": {},
   "source": [
    "This example is based on a stackoverflow post here:\n",
    "https://stackoverflow.com/questions/61602609/pandas-dict-of-columns-and-select-the-right-value"
   ]
  },
  {
   "cell_type": "code",
   "execution_count": 1,
   "metadata": {},
   "outputs": [
    {
     "data": {
      "text/html": [
       "<div>\n",
       "<style scoped>\n",
       "    .dataframe tbody tr th:only-of-type {\n",
       "        vertical-align: middle;\n",
       "    }\n",
       "\n",
       "    .dataframe tbody tr th {\n",
       "        vertical-align: top;\n",
       "    }\n",
       "\n",
       "    .dataframe thead th {\n",
       "        text-align: right;\n",
       "    }\n",
       "</style>\n",
       "<table border=\"1\" class=\"dataframe\">\n",
       "  <thead>\n",
       "    <tr style=\"text-align: right;\">\n",
       "      <th></th>\n",
       "      <th>Book_Name</th>\n",
       "      <th>Book_Ids</th>\n",
       "      <th>Countries_Published</th>\n",
       "    </tr>\n",
       "  </thead>\n",
       "  <tbody>\n",
       "    <tr>\n",
       "      <th>0</th>\n",
       "      <td>Book_A</td>\n",
       "      <td>[123]</td>\n",
       "      <td>[USA]</td>\n",
       "    </tr>\n",
       "    <tr>\n",
       "      <th>1</th>\n",
       "      <td>Book_B</td>\n",
       "      <td>[4670, 1122]</td>\n",
       "      <td>[Canada, USA]</td>\n",
       "    </tr>\n",
       "    <tr>\n",
       "      <th>2</th>\n",
       "      <td>Book_C</td>\n",
       "      <td>[11, 200, 7688]</td>\n",
       "      <td>[Japan, USA, Canada]</td>\n",
       "    </tr>\n",
       "    <tr>\n",
       "      <th>3</th>\n",
       "      <td>Book_D</td>\n",
       "      <td>[500, 400, 600]</td>\n",
       "      <td>[NaN, Japan, Canada]</td>\n",
       "    </tr>\n",
       "    <tr>\n",
       "      <th>4</th>\n",
       "      <td>Book_E</td>\n",
       "      <td>[987]</td>\n",
       "      <td>[Japan]</td>\n",
       "    </tr>\n",
       "  </tbody>\n",
       "</table>\n",
       "</div>"
      ],
      "text/plain": [
       "  Book_Name         Book_Ids   Countries_Published\n",
       "0    Book_A            [123]                 [USA]\n",
       "1    Book_B     [4670, 1122]         [Canada, USA]\n",
       "2    Book_C  [11, 200, 7688]  [Japan, USA, Canada]\n",
       "3    Book_D  [500, 400, 600]  [NaN, Japan, Canada]\n",
       "4    Book_E            [987]               [Japan]"
      ]
     },
     "execution_count": 1,
     "metadata": {},
     "output_type": "execute_result"
    }
   ],
   "source": [
    "import pandas as pd\n",
    "import numpy as np\n",
    "from itertools import chain\n",
    "\n",
    "# Suppose you have a pandas dataframe like this:\n",
    "columns = [\"Book_Name\", \"Book_Ids\", \"Countries_Published\"]\n",
    "data = np.array([\n",
    "['Book_A',             [123],               ['USA']],\n",
    "['Book_B',             [4670,1122],         ['Canada', 'USA']],\n",
    "['Book_C',             [11,200,7688],       ['Japan', 'USA', 'Canada']],\n",
    "['Book_D',             [500,400,600],       ['NaN', 'Japan', 'Canada']],\n",
    "['Book_E',             [987],               ['Japan']],\n",
    "])\n",
    "df = pd.DataFrame(data, columns=columns)\n",
    "df"
   ]
  },
  {
   "cell_type": "markdown",
   "metadata": {},
   "source": [
    "This is what the user wanted:\n",
    "    \n",
    "> My output dataframe should be a one to one mapping between the name of the book and one of the Book Ids with the following rule :\n",
    "> If the list of Book_Ids has only one ID , pick that. If there are more than one , pick according to the following ranking : USA > Canada > Japan"
   ]
  },
  {
   "cell_type": "markdown",
   "metadata": {},
   "source": [
    "## Solution\n",
    "\n",
    "Best to break it down into steps:"
   ]
  },
  {
   "cell_type": "code",
   "execution_count": 2,
   "metadata": {},
   "outputs": [
    {
     "name": "stdout",
     "output_type": "stream",
     "text": [
      "1\n"
     ]
    }
   ],
   "source": [
    "# Function to rank items according to country\n",
    "\n",
    "def country_rank(item, ranking=['USA', 'Canada', 'Japan']):\n",
    "    try:\n",
    "        i = ranking.index(item[0])\n",
    "    except ValueError:\n",
    "        i = len(ranking)\n",
    "    return i\n",
    "\n",
    "print(country_rank(('Canada', 999)))"
   ]
  },
  {
   "cell_type": "code",
   "execution_count": 3,
   "metadata": {},
   "outputs": [
    {
     "data": {
      "text/plain": [
       "('USA', 1122)"
      ]
     },
     "execution_count": 3,
     "metadata": {},
     "output_type": "execute_result"
    }
   ],
   "source": [
    "# Function to combine countries and IDs and then pick \n",
    "# the one with the highest rank:\n",
    "\n",
    "def pick_book_id(x, ranking=['USA', 'Canada', 'Japan']):\n",
    "    book_ids = list(zip(x['Countries_Published'], x['Book_Ids']))\n",
    "    return sorted(book_ids, key=country_rank)[0]\n",
    "\n",
    "pick_book_id(df.loc[1])"
   ]
  },
  {
   "cell_type": "markdown",
   "metadata": {},
   "source": [
    "Put it all together:"
   ]
  },
  {
   "cell_type": "code",
   "execution_count": 4,
   "metadata": {},
   "outputs": [
    {
     "name": "stdout",
     "output_type": "stream",
     "text": [
      "  Book_Name         Book_Ids   Countries_Published   Selected IDs\n",
      "0    Book_A            [123]                 [USA]     (USA, 123)\n",
      "1    Book_B     [4670, 1122]         [Canada, USA]    (USA, 1122)\n",
      "2    Book_C  [11, 200, 7688]  [Japan, USA, Canada]     (USA, 200)\n",
      "3    Book_D  [500, 400, 600]  [NaN, Japan, Canada]  (Canada, 600)\n",
      "4    Book_E            [987]               [Japan]   (Japan, 987)\n"
     ]
    }
   ],
   "source": [
    "df['Selected IDs'] = df.apply(pick_book_id, axis=1)\n",
    "print(df)"
   ]
  },
  {
   "cell_type": "code",
   "execution_count": null,
   "metadata": {},
   "outputs": [],
   "source": []
  },
  {
   "cell_type": "code",
   "execution_count": null,
   "metadata": {},
   "outputs": [],
   "source": []
  },
  {
   "cell_type": "code",
   "execution_count": null,
   "metadata": {},
   "outputs": [],
   "source": []
  }
 ],
 "metadata": {
  "kernelspec": {
   "display_name": "Python [conda env:torch]",
   "language": "python",
   "name": "conda-env-torch-py"
  },
  "language_info": {
   "codemirror_mode": {
    "name": "ipython",
    "version": 3
   },
   "file_extension": ".py",
   "mimetype": "text/x-python",
   "name": "python",
   "nbconvert_exporter": "python",
   "pygments_lexer": "ipython3",
   "version": "3.7.7"
  }
 },
 "nbformat": 4,
 "nbformat_minor": 2
}
