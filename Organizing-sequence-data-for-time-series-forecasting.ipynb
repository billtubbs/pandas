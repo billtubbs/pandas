{
 "cells": [
  {
   "cell_type": "markdown",
   "metadata": {},
   "source": [
    "# Pandas Example: Organizing sequence data for time-series forecasting"
   ]
  },
  {
   "cell_type": "code",
   "execution_count": 1,
   "metadata": {},
   "outputs": [],
   "source": [
    "import numpy as np\n",
    "import pandas as pd\n",
    "import matplotlib.pyplot as plt\n",
    "\n",
    "%matplotlib inline"
   ]
  },
  {
   "cell_type": "markdown",
   "metadata": {},
   "source": [
    "This example is based on the following user's stackoverflow question:\n",
    "\n",
    "- https://stackoverflow.com/questions/58544615/transformation-of-data-for-the-multi-step-sequence-for-lstm-timeseries/58545357#58545357\n",
    "\n",
    "Suppose we have some price data from customers that looks like this:"
   ]
  },
  {
   "cell_type": "code",
   "execution_count": 2,
   "metadata": {},
   "outputs": [
    {
     "name": "stdout",
     "output_type": "stream",
     "text": [
      "Overwriting data.txt\n"
     ]
    }
   ],
   "source": [
    "%%writefile data.txt\n",
    "Date,Customer,Price\n",
    "1/6/2019,A,855\n",
    "1/7/2019,A,989\n",
    "1/8/2019,A,454\n",
    "1/9/2019,A,574\n",
    "1/10/2019,A,395\n",
    "1/1/2019,A,162\n",
    "1/2/2019,A,123\n",
    "1/3/2019,A,342\n",
    "1/4/2019,A,232\n",
    "1/5/2019,A,657\n",
    "1/6/2019,B,875\n",
    "1/7/2019,B,999\n",
    "1/8/2019,B,434\n",
    "1/9/2019,B,564\n",
    "1/10/2019,B,345\n",
    "1/10/2019,B,798\n",
    "1/6/2019,B,815\n",
    "1/7/2019,B,929\n",
    "1/8/2019,B,444\n",
    "1/9/2019,B,554\n",
    "1/10/2019,B,395\n",
    "1/10/2019,B,768"
   ]
  },
  {
   "cell_type": "markdown",
   "metadata": {},
   "source": [
    "We want to try to predict future prices from recent prices from the same customer.  To do this we want to sort the data into convenient tuples, short sequences of data items that contain the data we will use for training and testing a price-forecasting algorithm."
   ]
  },
  {
   "cell_type": "markdown",
   "metadata": {},
   "source": [
    "## 1. Load and analyse the data"
   ]
  },
  {
   "cell_type": "code",
   "execution_count": 3,
   "metadata": {},
   "outputs": [
    {
     "data": {
      "text/html": [
       "<div>\n",
       "<style scoped>\n",
       "    .dataframe tbody tr th:only-of-type {\n",
       "        vertical-align: middle;\n",
       "    }\n",
       "\n",
       "    .dataframe tbody tr th {\n",
       "        vertical-align: top;\n",
       "    }\n",
       "\n",
       "    .dataframe thead th {\n",
       "        text-align: right;\n",
       "    }\n",
       "</style>\n",
       "<table border=\"1\" class=\"dataframe\">\n",
       "  <thead>\n",
       "    <tr style=\"text-align: right;\">\n",
       "      <th></th>\n",
       "      <th>Date</th>\n",
       "      <th>Customer</th>\n",
       "      <th>Price</th>\n",
       "    </tr>\n",
       "  </thead>\n",
       "  <tbody>\n",
       "    <tr>\n",
       "      <th>0</th>\n",
       "      <td>1/6/2019</td>\n",
       "      <td>A</td>\n",
       "      <td>855</td>\n",
       "    </tr>\n",
       "    <tr>\n",
       "      <th>1</th>\n",
       "      <td>1/7/2019</td>\n",
       "      <td>A</td>\n",
       "      <td>989</td>\n",
       "    </tr>\n",
       "    <tr>\n",
       "      <th>2</th>\n",
       "      <td>1/8/2019</td>\n",
       "      <td>A</td>\n",
       "      <td>454</td>\n",
       "    </tr>\n",
       "    <tr>\n",
       "      <th>3</th>\n",
       "      <td>1/9/2019</td>\n",
       "      <td>A</td>\n",
       "      <td>574</td>\n",
       "    </tr>\n",
       "    <tr>\n",
       "      <th>4</th>\n",
       "      <td>1/10/2019</td>\n",
       "      <td>A</td>\n",
       "      <td>395</td>\n",
       "    </tr>\n",
       "  </tbody>\n",
       "</table>\n",
       "</div>"
      ],
      "text/plain": [
       "        Date Customer  Price\n",
       "0   1/6/2019        A    855\n",
       "1   1/7/2019        A    989\n",
       "2   1/8/2019        A    454\n",
       "3   1/9/2019        A    574\n",
       "4  1/10/2019        A    395"
      ]
     },
     "execution_count": 3,
     "metadata": {},
     "output_type": "execute_result"
    }
   ],
   "source": [
    "# Read in the data\n",
    "df = pd.read_csv('data.txt', index_col=0)\n",
    "df = df.reset_index()\n",
    "df.head()"
   ]
  },
  {
   "cell_type": "code",
   "execution_count": 4,
   "metadata": {},
   "outputs": [
    {
     "data": {
      "text/html": [
       "<div>\n",
       "<style scoped>\n",
       "    .dataframe tbody tr th:only-of-type {\n",
       "        vertical-align: middle;\n",
       "    }\n",
       "\n",
       "    .dataframe tbody tr th {\n",
       "        vertical-align: top;\n",
       "    }\n",
       "\n",
       "    .dataframe thead th {\n",
       "        text-align: right;\n",
       "    }\n",
       "</style>\n",
       "<table border=\"1\" class=\"dataframe\">\n",
       "  <thead>\n",
       "    <tr style=\"text-align: right;\">\n",
       "      <th></th>\n",
       "      <th>A</th>\n",
       "      <th>B</th>\n",
       "    </tr>\n",
       "  </thead>\n",
       "  <tbody>\n",
       "    <tr>\n",
       "      <th>0</th>\n",
       "      <td>855.0</td>\n",
       "      <td>875</td>\n",
       "    </tr>\n",
       "    <tr>\n",
       "      <th>1</th>\n",
       "      <td>989.0</td>\n",
       "      <td>999</td>\n",
       "    </tr>\n",
       "    <tr>\n",
       "      <th>2</th>\n",
       "      <td>454.0</td>\n",
       "      <td>434</td>\n",
       "    </tr>\n",
       "    <tr>\n",
       "      <th>3</th>\n",
       "      <td>574.0</td>\n",
       "      <td>564</td>\n",
       "    </tr>\n",
       "    <tr>\n",
       "      <th>4</th>\n",
       "      <td>395.0</td>\n",
       "      <td>345</td>\n",
       "    </tr>\n",
       "    <tr>\n",
       "      <th>5</th>\n",
       "      <td>162.0</td>\n",
       "      <td>798</td>\n",
       "    </tr>\n",
       "    <tr>\n",
       "      <th>6</th>\n",
       "      <td>123.0</td>\n",
       "      <td>815</td>\n",
       "    </tr>\n",
       "    <tr>\n",
       "      <th>7</th>\n",
       "      <td>342.0</td>\n",
       "      <td>929</td>\n",
       "    </tr>\n",
       "    <tr>\n",
       "      <th>8</th>\n",
       "      <td>232.0</td>\n",
       "      <td>444</td>\n",
       "    </tr>\n",
       "    <tr>\n",
       "      <th>9</th>\n",
       "      <td>657.0</td>\n",
       "      <td>554</td>\n",
       "    </tr>\n",
       "    <tr>\n",
       "      <th>10</th>\n",
       "      <td>NaN</td>\n",
       "      <td>395</td>\n",
       "    </tr>\n",
       "    <tr>\n",
       "      <th>11</th>\n",
       "      <td>NaN</td>\n",
       "      <td>768</td>\n",
       "    </tr>\n",
       "  </tbody>\n",
       "</table>\n",
       "</div>"
      ],
      "text/plain": [
       "        A    B\n",
       "0   855.0  875\n",
       "1   989.0  999\n",
       "2   454.0  434\n",
       "3   574.0  564\n",
       "4   395.0  345\n",
       "5   162.0  798\n",
       "6   123.0  815\n",
       "7   342.0  929\n",
       "8   232.0  444\n",
       "9   657.0  554\n",
       "10    NaN  395\n",
       "11    NaN  768"
      ]
     },
     "execution_count": 4,
     "metadata": {},
     "output_type": "execute_result"
    }
   ],
   "source": [
    "prices_by_customers = df.groupby('Customer')['Price']\n",
    "customers = [name for name, prices in prices_by_customers]\n",
    "price_sequences = pd.concat([prices.reset_index(drop=True) for name, prices in prices_by_customers], \n",
    "                            axis=1, keys=customers)\n",
    "price_sequences"
   ]
  },
  {
   "cell_type": "code",
   "execution_count": 5,
   "metadata": {},
   "outputs": [
    {
     "data": {
      "text/plain": [
       "A    10\n",
       "B    12\n",
       "dtype: int64"
      ]
     },
     "execution_count": 5,
     "metadata": {},
     "output_type": "execute_result"
    }
   ],
   "source": [
    "# Check how much data per customer\n",
    "price_sequences.count()"
   ]
  },
  {
   "cell_type": "markdown",
   "metadata": {},
   "source": [
    "## 2. Process data for time-series analysis"
   ]
  },
  {
   "cell_type": "code",
   "execution_count": 6,
   "metadata": {},
   "outputs": [],
   "source": [
    "# Add shifted columns\n",
    "x_data = []\n",
    "y_data = []\n",
    "for customer, prices in prices_by_customers:\n",
    "    x = {i: prices.shift(-i) for i in range(4)}\n",
    "    y = {i: prices.shift(-i-4) for i in range(2)}\n",
    "    x['Customer'] = customer\n",
    "    y['Customer'] = customer\n",
    "    x_data.append(pd.DataFrame(x))\n",
    "    y_data.append(pd.DataFrame(y))"
   ]
  },
  {
   "cell_type": "code",
   "execution_count": 7,
   "metadata": {},
   "outputs": [
    {
     "data": {
      "text/html": [
       "<div>\n",
       "<style scoped>\n",
       "    .dataframe tbody tr th:only-of-type {\n",
       "        vertical-align: middle;\n",
       "    }\n",
       "\n",
       "    .dataframe tbody tr th {\n",
       "        vertical-align: top;\n",
       "    }\n",
       "\n",
       "    .dataframe thead th {\n",
       "        text-align: right;\n",
       "    }\n",
       "</style>\n",
       "<table border=\"1\" class=\"dataframe\">\n",
       "  <thead>\n",
       "    <tr style=\"text-align: right;\">\n",
       "      <th></th>\n",
       "      <th>0</th>\n",
       "      <th>1</th>\n",
       "      <th>2</th>\n",
       "      <th>3</th>\n",
       "      <th>Customer</th>\n",
       "      <th>0</th>\n",
       "      <th>1</th>\n",
       "      <th>Customer</th>\n",
       "    </tr>\n",
       "  </thead>\n",
       "  <tbody>\n",
       "    <tr>\n",
       "      <th>0</th>\n",
       "      <td>855</td>\n",
       "      <td>989.0</td>\n",
       "      <td>454.0</td>\n",
       "      <td>574.0</td>\n",
       "      <td>A</td>\n",
       "      <td>395.0</td>\n",
       "      <td>162.0</td>\n",
       "      <td>A</td>\n",
       "    </tr>\n",
       "    <tr>\n",
       "      <th>1</th>\n",
       "      <td>989</td>\n",
       "      <td>454.0</td>\n",
       "      <td>574.0</td>\n",
       "      <td>395.0</td>\n",
       "      <td>A</td>\n",
       "      <td>162.0</td>\n",
       "      <td>123.0</td>\n",
       "      <td>A</td>\n",
       "    </tr>\n",
       "    <tr>\n",
       "      <th>2</th>\n",
       "      <td>454</td>\n",
       "      <td>574.0</td>\n",
       "      <td>395.0</td>\n",
       "      <td>162.0</td>\n",
       "      <td>A</td>\n",
       "      <td>123.0</td>\n",
       "      <td>342.0</td>\n",
       "      <td>A</td>\n",
       "    </tr>\n",
       "    <tr>\n",
       "      <th>3</th>\n",
       "      <td>574</td>\n",
       "      <td>395.0</td>\n",
       "      <td>162.0</td>\n",
       "      <td>123.0</td>\n",
       "      <td>A</td>\n",
       "      <td>342.0</td>\n",
       "      <td>232.0</td>\n",
       "      <td>A</td>\n",
       "    </tr>\n",
       "    <tr>\n",
       "      <th>4</th>\n",
       "      <td>395</td>\n",
       "      <td>162.0</td>\n",
       "      <td>123.0</td>\n",
       "      <td>342.0</td>\n",
       "      <td>A</td>\n",
       "      <td>232.0</td>\n",
       "      <td>657.0</td>\n",
       "      <td>A</td>\n",
       "    </tr>\n",
       "    <tr>\n",
       "      <th>5</th>\n",
       "      <td>162</td>\n",
       "      <td>123.0</td>\n",
       "      <td>342.0</td>\n",
       "      <td>232.0</td>\n",
       "      <td>A</td>\n",
       "      <td>657.0</td>\n",
       "      <td>NaN</td>\n",
       "      <td>A</td>\n",
       "    </tr>\n",
       "    <tr>\n",
       "      <th>6</th>\n",
       "      <td>123</td>\n",
       "      <td>342.0</td>\n",
       "      <td>232.0</td>\n",
       "      <td>657.0</td>\n",
       "      <td>A</td>\n",
       "      <td>NaN</td>\n",
       "      <td>NaN</td>\n",
       "      <td>A</td>\n",
       "    </tr>\n",
       "    <tr>\n",
       "      <th>7</th>\n",
       "      <td>342</td>\n",
       "      <td>232.0</td>\n",
       "      <td>657.0</td>\n",
       "      <td>NaN</td>\n",
       "      <td>A</td>\n",
       "      <td>NaN</td>\n",
       "      <td>NaN</td>\n",
       "      <td>A</td>\n",
       "    </tr>\n",
       "    <tr>\n",
       "      <th>8</th>\n",
       "      <td>232</td>\n",
       "      <td>657.0</td>\n",
       "      <td>NaN</td>\n",
       "      <td>NaN</td>\n",
       "      <td>A</td>\n",
       "      <td>NaN</td>\n",
       "      <td>NaN</td>\n",
       "      <td>A</td>\n",
       "    </tr>\n",
       "    <tr>\n",
       "      <th>9</th>\n",
       "      <td>657</td>\n",
       "      <td>NaN</td>\n",
       "      <td>NaN</td>\n",
       "      <td>NaN</td>\n",
       "      <td>A</td>\n",
       "      <td>NaN</td>\n",
       "      <td>NaN</td>\n",
       "      <td>A</td>\n",
       "    </tr>\n",
       "    <tr>\n",
       "      <th>10</th>\n",
       "      <td>875</td>\n",
       "      <td>999.0</td>\n",
       "      <td>434.0</td>\n",
       "      <td>564.0</td>\n",
       "      <td>B</td>\n",
       "      <td>345.0</td>\n",
       "      <td>798.0</td>\n",
       "      <td>B</td>\n",
       "    </tr>\n",
       "    <tr>\n",
       "      <th>11</th>\n",
       "      <td>999</td>\n",
       "      <td>434.0</td>\n",
       "      <td>564.0</td>\n",
       "      <td>345.0</td>\n",
       "      <td>B</td>\n",
       "      <td>798.0</td>\n",
       "      <td>815.0</td>\n",
       "      <td>B</td>\n",
       "    </tr>\n",
       "    <tr>\n",
       "      <th>12</th>\n",
       "      <td>434</td>\n",
       "      <td>564.0</td>\n",
       "      <td>345.0</td>\n",
       "      <td>798.0</td>\n",
       "      <td>B</td>\n",
       "      <td>815.0</td>\n",
       "      <td>929.0</td>\n",
       "      <td>B</td>\n",
       "    </tr>\n",
       "    <tr>\n",
       "      <th>13</th>\n",
       "      <td>564</td>\n",
       "      <td>345.0</td>\n",
       "      <td>798.0</td>\n",
       "      <td>815.0</td>\n",
       "      <td>B</td>\n",
       "      <td>929.0</td>\n",
       "      <td>444.0</td>\n",
       "      <td>B</td>\n",
       "    </tr>\n",
       "    <tr>\n",
       "      <th>14</th>\n",
       "      <td>345</td>\n",
       "      <td>798.0</td>\n",
       "      <td>815.0</td>\n",
       "      <td>929.0</td>\n",
       "      <td>B</td>\n",
       "      <td>444.0</td>\n",
       "      <td>554.0</td>\n",
       "      <td>B</td>\n",
       "    </tr>\n",
       "    <tr>\n",
       "      <th>15</th>\n",
       "      <td>798</td>\n",
       "      <td>815.0</td>\n",
       "      <td>929.0</td>\n",
       "      <td>444.0</td>\n",
       "      <td>B</td>\n",
       "      <td>554.0</td>\n",
       "      <td>395.0</td>\n",
       "      <td>B</td>\n",
       "    </tr>\n",
       "    <tr>\n",
       "      <th>16</th>\n",
       "      <td>815</td>\n",
       "      <td>929.0</td>\n",
       "      <td>444.0</td>\n",
       "      <td>554.0</td>\n",
       "      <td>B</td>\n",
       "      <td>395.0</td>\n",
       "      <td>768.0</td>\n",
       "      <td>B</td>\n",
       "    </tr>\n",
       "    <tr>\n",
       "      <th>17</th>\n",
       "      <td>929</td>\n",
       "      <td>444.0</td>\n",
       "      <td>554.0</td>\n",
       "      <td>395.0</td>\n",
       "      <td>B</td>\n",
       "      <td>768.0</td>\n",
       "      <td>NaN</td>\n",
       "      <td>B</td>\n",
       "    </tr>\n",
       "    <tr>\n",
       "      <th>18</th>\n",
       "      <td>444</td>\n",
       "      <td>554.0</td>\n",
       "      <td>395.0</td>\n",
       "      <td>768.0</td>\n",
       "      <td>B</td>\n",
       "      <td>NaN</td>\n",
       "      <td>NaN</td>\n",
       "      <td>B</td>\n",
       "    </tr>\n",
       "    <tr>\n",
       "      <th>19</th>\n",
       "      <td>554</td>\n",
       "      <td>395.0</td>\n",
       "      <td>768.0</td>\n",
       "      <td>NaN</td>\n",
       "      <td>B</td>\n",
       "      <td>NaN</td>\n",
       "      <td>NaN</td>\n",
       "      <td>B</td>\n",
       "    </tr>\n",
       "    <tr>\n",
       "      <th>20</th>\n",
       "      <td>395</td>\n",
       "      <td>768.0</td>\n",
       "      <td>NaN</td>\n",
       "      <td>NaN</td>\n",
       "      <td>B</td>\n",
       "      <td>NaN</td>\n",
       "      <td>NaN</td>\n",
       "      <td>B</td>\n",
       "    </tr>\n",
       "    <tr>\n",
       "      <th>21</th>\n",
       "      <td>768</td>\n",
       "      <td>NaN</td>\n",
       "      <td>NaN</td>\n",
       "      <td>NaN</td>\n",
       "      <td>B</td>\n",
       "      <td>NaN</td>\n",
       "      <td>NaN</td>\n",
       "      <td>B</td>\n",
       "    </tr>\n",
       "  </tbody>\n",
       "</table>\n",
       "</div>"
      ],
      "text/plain": [
       "      0      1      2      3 Customer      0      1 Customer\n",
       "0   855  989.0  454.0  574.0        A  395.0  162.0        A\n",
       "1   989  454.0  574.0  395.0        A  162.0  123.0        A\n",
       "2   454  574.0  395.0  162.0        A  123.0  342.0        A\n",
       "3   574  395.0  162.0  123.0        A  342.0  232.0        A\n",
       "4   395  162.0  123.0  342.0        A  232.0  657.0        A\n",
       "5   162  123.0  342.0  232.0        A  657.0    NaN        A\n",
       "6   123  342.0  232.0  657.0        A    NaN    NaN        A\n",
       "7   342  232.0  657.0    NaN        A    NaN    NaN        A\n",
       "8   232  657.0    NaN    NaN        A    NaN    NaN        A\n",
       "9   657    NaN    NaN    NaN        A    NaN    NaN        A\n",
       "10  875  999.0  434.0  564.0        B  345.0  798.0        B\n",
       "11  999  434.0  564.0  345.0        B  798.0  815.0        B\n",
       "12  434  564.0  345.0  798.0        B  815.0  929.0        B\n",
       "13  564  345.0  798.0  815.0        B  929.0  444.0        B\n",
       "14  345  798.0  815.0  929.0        B  444.0  554.0        B\n",
       "15  798  815.0  929.0  444.0        B  554.0  395.0        B\n",
       "16  815  929.0  444.0  554.0        B  395.0  768.0        B\n",
       "17  929  444.0  554.0  395.0        B  768.0    NaN        B\n",
       "18  444  554.0  395.0  768.0        B    NaN    NaN        B\n",
       "19  554  395.0  768.0    NaN        B    NaN    NaN        B\n",
       "20  395  768.0    NaN    NaN        B    NaN    NaN        B\n",
       "21  768    NaN    NaN    NaN        B    NaN    NaN        B"
      ]
     },
     "execution_count": 7,
     "metadata": {},
     "output_type": "execute_result"
    }
   ],
   "source": [
    "x_data = pd.concat(x_data)\n",
    "y_data = pd.concat(y_data)\n",
    "pd.concat([x_data, y_data], axis=1)"
   ]
  },
  {
   "cell_type": "code",
   "execution_count": 8,
   "metadata": {},
   "outputs": [
    {
     "data": {
      "text/html": [
       "<div>\n",
       "<style scoped>\n",
       "    .dataframe tbody tr th:only-of-type {\n",
       "        vertical-align: middle;\n",
       "    }\n",
       "\n",
       "    .dataframe tbody tr th {\n",
       "        vertical-align: top;\n",
       "    }\n",
       "\n",
       "    .dataframe thead tr th {\n",
       "        text-align: left;\n",
       "    }\n",
       "</style>\n",
       "<table border=\"1\" class=\"dataframe\">\n",
       "  <thead>\n",
       "    <tr>\n",
       "      <th></th>\n",
       "      <th colspan=\"5\" halign=\"left\">X_data</th>\n",
       "      <th colspan=\"2\" halign=\"left\">y_data</th>\n",
       "    </tr>\n",
       "    <tr>\n",
       "      <th></th>\n",
       "      <th>0</th>\n",
       "      <th>1</th>\n",
       "      <th>2</th>\n",
       "      <th>3</th>\n",
       "      <th>Customer</th>\n",
       "      <th>0</th>\n",
       "      <th>1</th>\n",
       "    </tr>\n",
       "  </thead>\n",
       "  <tbody>\n",
       "    <tr>\n",
       "      <th>0</th>\n",
       "      <td>855</td>\n",
       "      <td>989.0</td>\n",
       "      <td>454.0</td>\n",
       "      <td>574.0</td>\n",
       "      <td>A</td>\n",
       "      <td>395.0</td>\n",
       "      <td>162.0</td>\n",
       "    </tr>\n",
       "    <tr>\n",
       "      <th>1</th>\n",
       "      <td>989</td>\n",
       "      <td>454.0</td>\n",
       "      <td>574.0</td>\n",
       "      <td>395.0</td>\n",
       "      <td>A</td>\n",
       "      <td>162.0</td>\n",
       "      <td>123.0</td>\n",
       "    </tr>\n",
       "    <tr>\n",
       "      <th>2</th>\n",
       "      <td>454</td>\n",
       "      <td>574.0</td>\n",
       "      <td>395.0</td>\n",
       "      <td>162.0</td>\n",
       "      <td>A</td>\n",
       "      <td>123.0</td>\n",
       "      <td>342.0</td>\n",
       "    </tr>\n",
       "    <tr>\n",
       "      <th>3</th>\n",
       "      <td>574</td>\n",
       "      <td>395.0</td>\n",
       "      <td>162.0</td>\n",
       "      <td>123.0</td>\n",
       "      <td>A</td>\n",
       "      <td>342.0</td>\n",
       "      <td>232.0</td>\n",
       "    </tr>\n",
       "    <tr>\n",
       "      <th>4</th>\n",
       "      <td>395</td>\n",
       "      <td>162.0</td>\n",
       "      <td>123.0</td>\n",
       "      <td>342.0</td>\n",
       "      <td>A</td>\n",
       "      <td>232.0</td>\n",
       "      <td>657.0</td>\n",
       "    </tr>\n",
       "    <tr>\n",
       "      <th>5</th>\n",
       "      <td>875</td>\n",
       "      <td>999.0</td>\n",
       "      <td>434.0</td>\n",
       "      <td>564.0</td>\n",
       "      <td>B</td>\n",
       "      <td>345.0</td>\n",
       "      <td>798.0</td>\n",
       "    </tr>\n",
       "    <tr>\n",
       "      <th>6</th>\n",
       "      <td>999</td>\n",
       "      <td>434.0</td>\n",
       "      <td>564.0</td>\n",
       "      <td>345.0</td>\n",
       "      <td>B</td>\n",
       "      <td>798.0</td>\n",
       "      <td>815.0</td>\n",
       "    </tr>\n",
       "    <tr>\n",
       "      <th>7</th>\n",
       "      <td>434</td>\n",
       "      <td>564.0</td>\n",
       "      <td>345.0</td>\n",
       "      <td>798.0</td>\n",
       "      <td>B</td>\n",
       "      <td>815.0</td>\n",
       "      <td>929.0</td>\n",
       "    </tr>\n",
       "    <tr>\n",
       "      <th>8</th>\n",
       "      <td>564</td>\n",
       "      <td>345.0</td>\n",
       "      <td>798.0</td>\n",
       "      <td>815.0</td>\n",
       "      <td>B</td>\n",
       "      <td>929.0</td>\n",
       "      <td>444.0</td>\n",
       "    </tr>\n",
       "    <tr>\n",
       "      <th>9</th>\n",
       "      <td>345</td>\n",
       "      <td>798.0</td>\n",
       "      <td>815.0</td>\n",
       "      <td>929.0</td>\n",
       "      <td>B</td>\n",
       "      <td>444.0</td>\n",
       "      <td>554.0</td>\n",
       "    </tr>\n",
       "    <tr>\n",
       "      <th>10</th>\n",
       "      <td>798</td>\n",
       "      <td>815.0</td>\n",
       "      <td>929.0</td>\n",
       "      <td>444.0</td>\n",
       "      <td>B</td>\n",
       "      <td>554.0</td>\n",
       "      <td>395.0</td>\n",
       "    </tr>\n",
       "    <tr>\n",
       "      <th>11</th>\n",
       "      <td>815</td>\n",
       "      <td>929.0</td>\n",
       "      <td>444.0</td>\n",
       "      <td>554.0</td>\n",
       "      <td>B</td>\n",
       "      <td>395.0</td>\n",
       "      <td>768.0</td>\n",
       "    </tr>\n",
       "  </tbody>\n",
       "</table>\n",
       "</div>"
      ],
      "text/plain": [
       "   X_data                               y_data       \n",
       "        0      1      2      3 Customer      0      1\n",
       "0     855  989.0  454.0  574.0        A  395.0  162.0\n",
       "1     989  454.0  574.0  395.0        A  162.0  123.0\n",
       "2     454  574.0  395.0  162.0        A  123.0  342.0\n",
       "3     574  395.0  162.0  123.0        A  342.0  232.0\n",
       "4     395  162.0  123.0  342.0        A  232.0  657.0\n",
       "5     875  999.0  434.0  564.0        B  345.0  798.0\n",
       "6     999  434.0  564.0  345.0        B  798.0  815.0\n",
       "7     434  564.0  345.0  798.0        B  815.0  929.0\n",
       "8     564  345.0  798.0  815.0        B  929.0  444.0\n",
       "9     345  798.0  815.0  929.0        B  444.0  554.0\n",
       "10    798  815.0  929.0  444.0        B  554.0  395.0\n",
       "11    815  929.0  444.0  554.0        B  395.0  768.0"
      ]
     },
     "execution_count": 8,
     "metadata": {},
     "output_type": "execute_result"
    }
   ],
   "source": [
    "# Finally, drop NaNs etc.:\n",
    "training_data = pd.concat([x_data, y_data], axis=1, keys=['X_data', 'y_data']).dropna()\n",
    "training_data = training_data.reset_index(drop=True).drop(('y_data', 'Customer'), axis=1)\n",
    "training_data"
   ]
  },
  {
   "cell_type": "markdown",
   "metadata": {},
   "source": [
    "## 3. Split the data into train and test sets"
   ]
  },
  {
   "cell_type": "code",
   "execution_count": 9,
   "metadata": {},
   "outputs": [
    {
     "data": {
      "text/plain": [
       "((9, 4), (9, 2))"
      ]
     },
     "execution_count": 9,
     "metadata": {},
     "output_type": "execute_result"
    }
   ],
   "source": [
    "from sklearn.model_selection import train_test_split\n",
    "\n",
    "x = training_data['X_data'].drop('Customer', axis=1)  # Ignore customer label\n",
    "y = training_data['y_data']\n",
    "x_train, x_test, y_train, y_test = train_test_split(x, y, test_size = 0.2, random_state = 0)\n",
    "\n",
    "x_train.shape, y_train.shape"
   ]
  },
  {
   "cell_type": "code",
   "execution_count": 10,
   "metadata": {},
   "outputs": [
    {
     "data": {
      "text/plain": [
       "((3, 4), (3, 2))"
      ]
     },
     "execution_count": 10,
     "metadata": {},
     "output_type": "execute_result"
    }
   ],
   "source": [
    "x_test.shape, y_test.shape"
   ]
  },
  {
   "cell_type": "markdown",
   "metadata": {},
   "source": [
    "## 4. Train the model"
   ]
  },
  {
   "cell_type": "code",
   "execution_count": 11,
   "metadata": {},
   "outputs": [],
   "source": [
    "from sklearn.linear_model import LinearRegression"
   ]
  },
  {
   "cell_type": "code",
   "execution_count": 19,
   "metadata": {},
   "outputs": [],
   "source": [
    "reg = LinearRegression().fit(x_train, y_train)"
   ]
  },
  {
   "cell_type": "markdown",
   "metadata": {},
   "source": [
    "## 5. Test the model on the test data"
   ]
  },
  {
   "cell_type": "code",
   "execution_count": 20,
   "metadata": {},
   "outputs": [
    {
     "data": {
      "text/html": [
       "<div>\n",
       "<style scoped>\n",
       "    .dataframe tbody tr th:only-of-type {\n",
       "        vertical-align: middle;\n",
       "    }\n",
       "\n",
       "    .dataframe tbody tr th {\n",
       "        vertical-align: top;\n",
       "    }\n",
       "\n",
       "    .dataframe thead tr th {\n",
       "        text-align: left;\n",
       "    }\n",
       "</style>\n",
       "<table border=\"1\" class=\"dataframe\">\n",
       "  <thead>\n",
       "    <tr>\n",
       "      <th></th>\n",
       "      <th colspan=\"2\" halign=\"left\">True values</th>\n",
       "      <th colspan=\"2\" halign=\"left\">Predictions</th>\n",
       "    </tr>\n",
       "    <tr>\n",
       "      <th></th>\n",
       "      <th>0</th>\n",
       "      <th>1</th>\n",
       "      <th>0</th>\n",
       "      <th>1</th>\n",
       "    </tr>\n",
       "  </thead>\n",
       "  <tbody>\n",
       "    <tr>\n",
       "      <th>6</th>\n",
       "      <td>798.0</td>\n",
       "      <td>815.0</td>\n",
       "      <td>403.687005</td>\n",
       "      <td>152.688208</td>\n",
       "    </tr>\n",
       "    <tr>\n",
       "      <th>11</th>\n",
       "      <td>395.0</td>\n",
       "      <td>768.0</td>\n",
       "      <td>362.484290</td>\n",
       "      <td>507.811818</td>\n",
       "    </tr>\n",
       "    <tr>\n",
       "      <th>4</th>\n",
       "      <td>232.0</td>\n",
       "      <td>657.0</td>\n",
       "      <td>512.093026</td>\n",
       "      <td>451.835048</td>\n",
       "    </tr>\n",
       "  </tbody>\n",
       "</table>\n",
       "</div>"
      ],
      "text/plain": [
       "   True values        Predictions            \n",
       "             0      1           0           1\n",
       "6        798.0  815.0  403.687005  152.688208\n",
       "11       395.0  768.0  362.484290  507.811818\n",
       "4        232.0  657.0  512.093026  451.835048"
      ]
     },
     "execution_count": 20,
     "metadata": {},
     "output_type": "execute_result"
    }
   ],
   "source": [
    "from sklearn.metrics import r2_score\n",
    "\n",
    "y_pred = reg.predict(x_test)\n",
    "y_pred = pd.DataFrame(y_pred, index=x_test.index)\n",
    "\n",
    "pd.concat([y_test, y_pred], axis=1, keys=['True values', 'Predictions'])"
   ]
  },
  {
   "cell_type": "code",
   "execution_count": 21,
   "metadata": {},
   "outputs": [
    {
     "data": {
      "text/plain": [
       "-20.522339744877144"
      ]
     },
     "execution_count": 21,
     "metadata": {},
     "output_type": "execute_result"
    }
   ],
   "source": [
    "r2_score(y_test, y_pred)"
   ]
  },
  {
   "cell_type": "markdown",
   "metadata": {},
   "source": [
    "Note: If $R^2$ < 0.5 then it is a poor model..."
   ]
  },
  {
   "cell_type": "code",
   "execution_count": 22,
   "metadata": {},
   "outputs": [
    {
     "data": {
      "text/plain": [
       "array([[-0.01495939, -0.38983674,  0.0102233 ,  0.7188552 ],\n",
       "       [-0.3296829 ,  0.25102598, -0.38566046,  0.59294182]])"
      ]
     },
     "execution_count": 22,
     "metadata": {},
     "output_type": "execute_result"
    }
   ],
   "source": [
    "# Model coefficients\n",
    "reg.coef_"
   ]
  },
  {
   "cell_type": "code",
   "execution_count": 23,
   "metadata": {},
   "outputs": [
    {
     "data": {
      "text/plain": [
       "array([334.0495906, 386.0437169])"
      ]
     },
     "execution_count": 23,
     "metadata": {},
     "output_type": "execute_result"
    }
   ],
   "source": [
    "reg.intercept_ "
   ]
  },
  {
   "cell_type": "markdown",
   "metadata": {},
   "source": [
    "## 6. Make predictions"
   ]
  },
  {
   "cell_type": "code",
   "execution_count": 24,
   "metadata": {},
   "outputs": [
    {
     "data": {
      "text/plain": [
       "array([553.12131744, 500.42002154])"
      ]
     },
     "execution_count": 24,
     "metadata": {},
     "output_type": "execute_result"
    }
   ],
   "source": [
    "# Get some price data\n",
    "x = np.array([400, 450.0, 500.0, 550.0])\n",
    "\n",
    "prediction = reg.predict(x.reshape(1, -1))[0, :]\n",
    "prediction"
   ]
  },
  {
   "cell_type": "code",
   "execution_count": 25,
   "metadata": {},
   "outputs": [
    {
     "data": {
      "image/png": "[encoded data removed]",
      "text/plain": [
       "<Figure size 432x288 with 1 Axes>"
      ]
     },
     "metadata": {
      "needs_background": "light"
     },
     "output_type": "display_data"
    }
   ],
   "source": [
    "pd.Series(x, name='data').plot(style='o-')\n",
    "pd.Series(prediction, index=[4, 5], name='prediction').plot(style='o-')\n",
    "plt.ylim(0,1000)\n",
    "plt.xlabel('Day')\n",
    "plt.ylabel('Price')\n",
    "plt.grid()\n",
    "plt.legend()\n",
    "plt.show()"
   ]
  },
  {
   "cell_type": "code",
   "execution_count": null,
   "metadata": {},
   "outputs": [],
   "source": []
  },
  {
   "cell_type": "code",
   "execution_count": null,
   "metadata": {},
   "outputs": [],
   "source": []
  },
  {
   "cell_type": "code",
   "execution_count": null,
   "metadata": {},
   "outputs": [],
   "source": []
  }
 ],
 "metadata": {
  "kernelspec": {
   "display_name": "Python [conda env:torch]",
   "language": "python",
   "name": "conda-env-torch-py"
  },
  "language_info": {
   "codemirror_mode": {
    "name": "ipython",
    "version": 3
   },
   "file_extension": ".py",
   "mimetype": "text/x-python",
   "name": "python",
   "nbconvert_exporter": "python",
   "pygments_lexer": "ipython3",
   "version": "3.7.4"
  }
 },
 "nbformat": 4,
 "nbformat_minor": 2
}
