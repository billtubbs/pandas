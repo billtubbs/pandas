{
 "cells": [
  {
   "cell_type": "markdown",
   "metadata": {},
   "source": [
    "# How to customize the pandas background_gradient function\n",
    "\n",
    "As explained by Guilherme Beltramini on [this stackoverflow answer](https://stackoverflow.com/questions/38931566/pandas-style-background-gradient-both-rows-and-columns)"
   ]
  },
  {
   "cell_type": "code",
   "execution_count": 1,
   "metadata": {},
   "outputs": [],
   "source": [
    "import pandas as pd\n",
    "import numpy as np\n",
    "import matplotlib.pyplot as plt\n",
    "\n",
    "data = np.array([[1., 1., 0.5,  0., 0.],\n",
    "                 [1., 1., 0.5, 0.5, 0.],\n",
    "                 [1., 0., 0.5,  0., 0.]])\n",
    "df = pd.DataFrame(data)"
   ]
  },
  {
   "cell_type": "markdown",
   "metadata": {},
   "source": [
    "### Problem"
   ]
  },
  {
   "cell_type": "code",
   "execution_count": 2,
   "metadata": {},
   "outputs": [
    {
     "data": {
      "text/html": [
       "<style  type=\"text/css\" >\n",
       "    #T_591ba0d8_b51a_11e8_baa1_72000075c7a0row0_col0 {\n",
       "            background-color:  #008066;\n",
       "        }    #T_591ba0d8_b51a_11e8_baa1_72000075c7a0row0_col1 {\n",
       "            background-color:  #ffff66;\n",
       "        }    #T_591ba0d8_b51a_11e8_baa1_72000075c7a0row0_col2 {\n",
       "            background-color:  #008066;\n",
       "        }    #T_591ba0d8_b51a_11e8_baa1_72000075c7a0row0_col3 {\n",
       "            background-color:  #008066;\n",
       "        }    #T_591ba0d8_b51a_11e8_baa1_72000075c7a0row0_col4 {\n",
       "            background-color:  #008066;\n",
       "        }    #T_591ba0d8_b51a_11e8_baa1_72000075c7a0row1_col0 {\n",
       "            background-color:  #008066;\n",
       "        }    #T_591ba0d8_b51a_11e8_baa1_72000075c7a0row1_col1 {\n",
       "            background-color:  #ffff66;\n",
       "        }    #T_591ba0d8_b51a_11e8_baa1_72000075c7a0row1_col2 {\n",
       "            background-color:  #008066;\n",
       "        }    #T_591ba0d8_b51a_11e8_baa1_72000075c7a0row1_col3 {\n",
       "            background-color:  #ffff66;\n",
       "        }    #T_591ba0d8_b51a_11e8_baa1_72000075c7a0row1_col4 {\n",
       "            background-color:  #008066;\n",
       "        }    #T_591ba0d8_b51a_11e8_baa1_72000075c7a0row2_col0 {\n",
       "            background-color:  #008066;\n",
       "        }    #T_591ba0d8_b51a_11e8_baa1_72000075c7a0row2_col1 {\n",
       "            background-color:  #008066;\n",
       "        }    #T_591ba0d8_b51a_11e8_baa1_72000075c7a0row2_col2 {\n",
       "            background-color:  #008066;\n",
       "        }    #T_591ba0d8_b51a_11e8_baa1_72000075c7a0row2_col3 {\n",
       "            background-color:  #008066;\n",
       "        }    #T_591ba0d8_b51a_11e8_baa1_72000075c7a0row2_col4 {\n",
       "            background-color:  #008066;\n",
       "        }</style>  \n",
       "<table id=\"T_591ba0d8_b51a_11e8_baa1_72000075c7a0\" > \n",
       "<thead>    <tr> \n",
       "        <th class=\"blank level0\" ></th> \n",
       "        <th class=\"col_heading level0 col0\" >0</th> \n",
       "        <th class=\"col_heading level0 col1\" >1</th> \n",
       "        <th class=\"col_heading level0 col2\" >2</th> \n",
       "        <th class=\"col_heading level0 col3\" >3</th> \n",
       "        <th class=\"col_heading level0 col4\" >4</th> \n",
       "    </tr></thead> \n",
       "<tbody>    <tr> \n",
       "        <th id=\"T_591ba0d8_b51a_11e8_baa1_72000075c7a0level0_row0\" class=\"row_heading level0 row0\" >0</th> \n",
       "        <td id=\"T_591ba0d8_b51a_11e8_baa1_72000075c7a0row0_col0\" class=\"data row0 col0\" >1</td> \n",
       "        <td id=\"T_591ba0d8_b51a_11e8_baa1_72000075c7a0row0_col1\" class=\"data row0 col1\" >1</td> \n",
       "        <td id=\"T_591ba0d8_b51a_11e8_baa1_72000075c7a0row0_col2\" class=\"data row0 col2\" >0.5</td> \n",
       "        <td id=\"T_591ba0d8_b51a_11e8_baa1_72000075c7a0row0_col3\" class=\"data row0 col3\" >0</td> \n",
       "        <td id=\"T_591ba0d8_b51a_11e8_baa1_72000075c7a0row0_col4\" class=\"data row0 col4\" >0</td> \n",
       "    </tr>    <tr> \n",
       "        <th id=\"T_591ba0d8_b51a_11e8_baa1_72000075c7a0level0_row1\" class=\"row_heading level0 row1\" >1</th> \n",
       "        <td id=\"T_591ba0d8_b51a_11e8_baa1_72000075c7a0row1_col0\" class=\"data row1 col0\" >1</td> \n",
       "        <td id=\"T_591ba0d8_b51a_11e8_baa1_72000075c7a0row1_col1\" class=\"data row1 col1\" >1</td> \n",
       "        <td id=\"T_591ba0d8_b51a_11e8_baa1_72000075c7a0row1_col2\" class=\"data row1 col2\" >0.5</td> \n",
       "        <td id=\"T_591ba0d8_b51a_11e8_baa1_72000075c7a0row1_col3\" class=\"data row1 col3\" >0.5</td> \n",
       "        <td id=\"T_591ba0d8_b51a_11e8_baa1_72000075c7a0row1_col4\" class=\"data row1 col4\" >0</td> \n",
       "    </tr>    <tr> \n",
       "        <th id=\"T_591ba0d8_b51a_11e8_baa1_72000075c7a0level0_row2\" class=\"row_heading level0 row2\" >2</th> \n",
       "        <td id=\"T_591ba0d8_b51a_11e8_baa1_72000075c7a0row2_col0\" class=\"data row2 col0\" >1</td> \n",
       "        <td id=\"T_591ba0d8_b51a_11e8_baa1_72000075c7a0row2_col1\" class=\"data row2 col1\" >0</td> \n",
       "        <td id=\"T_591ba0d8_b51a_11e8_baa1_72000075c7a0row2_col2\" class=\"data row2 col2\" >0.5</td> \n",
       "        <td id=\"T_591ba0d8_b51a_11e8_baa1_72000075c7a0row2_col3\" class=\"data row2 col3\" >0</td> \n",
       "        <td id=\"T_591ba0d8_b51a_11e8_baa1_72000075c7a0row2_col4\" class=\"data row2 col4\" >0</td> \n",
       "    </tr></tbody> \n",
       "</table> "
      ],
      "text/plain": [
       "<pandas.io.formats.style.Styler at 0x11aa68320>"
      ]
     },
     "execution_count": 2,
     "metadata": {},
     "output_type": "execute_result"
    }
   ],
   "source": [
    "df.style.background_gradient(cmap='summer')"
   ]
  },
  {
   "cell_type": "markdown",
   "metadata": {},
   "source": [
    "The colours are not consistent across all columns"
   ]
  },
  {
   "cell_type": "markdown",
   "metadata": {},
   "source": [
    "### Solution"
   ]
  },
  {
   "cell_type": "code",
   "execution_count": 3,
   "metadata": {},
   "outputs": [],
   "source": [
    "# Need to customize the pandas background_gradient function\n",
    "# because the gradients only apply to each row/column.\n",
    "\n",
    "from matplotlib import colors\n",
    "\n",
    "def background_gradient(s, m=None, M=None, cmap='summer', low=0, high=0):\n",
    "    if m is None:\n",
    "        m = s.min().min()\n",
    "    if M is None:\n",
    "        M = s.max().max()\n",
    "    rng = M - m\n",
    "    norm = colors.Normalize(m - (rng * low),\n",
    "                            M + (rng * high))\n",
    "    normed = norm(s.values)\n",
    "    c = [colors.rgb2hex(x) for x in plt.cm.get_cmap(cmap)(normed)]\n",
    "    return ['background-color: %s' % color for color in c]"
   ]
  },
  {
   "cell_type": "code",
   "execution_count": 4,
   "metadata": {},
   "outputs": [
    {
     "data": {
      "text/html": [
       "<style  type=\"text/css\" >\n",
       "    #T_592206b0_b51a_11e8_bfe4_72000075c7a0row0_col0 {\n",
       "            background-color:  #008066;\n",
       "        }    #T_592206b0_b51a_11e8_bfe4_72000075c7a0row0_col1 {\n",
       "            background-color:  #ffff66;\n",
       "        }    #T_592206b0_b51a_11e8_bfe4_72000075c7a0row0_col2 {\n",
       "            background-color:  #008066;\n",
       "        }    #T_592206b0_b51a_11e8_bfe4_72000075c7a0row0_col3 {\n",
       "            background-color:  #008066;\n",
       "        }    #T_592206b0_b51a_11e8_bfe4_72000075c7a0row0_col4 {\n",
       "            background-color:  #008066;\n",
       "        }    #T_592206b0_b51a_11e8_bfe4_72000075c7a0row1_col0 {\n",
       "            background-color:  #008066;\n",
       "        }    #T_592206b0_b51a_11e8_bfe4_72000075c7a0row1_col1 {\n",
       "            background-color:  #ffff66;\n",
       "        }    #T_592206b0_b51a_11e8_bfe4_72000075c7a0row1_col2 {\n",
       "            background-color:  #008066;\n",
       "        }    #T_592206b0_b51a_11e8_bfe4_72000075c7a0row1_col3 {\n",
       "            background-color:  #ffff66;\n",
       "        }    #T_592206b0_b51a_11e8_bfe4_72000075c7a0row1_col4 {\n",
       "            background-color:  #008066;\n",
       "        }    #T_592206b0_b51a_11e8_bfe4_72000075c7a0row2_col0 {\n",
       "            background-color:  #008066;\n",
       "        }    #T_592206b0_b51a_11e8_bfe4_72000075c7a0row2_col1 {\n",
       "            background-color:  #008066;\n",
       "        }    #T_592206b0_b51a_11e8_bfe4_72000075c7a0row2_col2 {\n",
       "            background-color:  #008066;\n",
       "        }    #T_592206b0_b51a_11e8_bfe4_72000075c7a0row2_col3 {\n",
       "            background-color:  #008066;\n",
       "        }    #T_592206b0_b51a_11e8_bfe4_72000075c7a0row2_col4 {\n",
       "            background-color:  #008066;\n",
       "        }</style>  \n",
       "<table id=\"T_592206b0_b51a_11e8_bfe4_72000075c7a0\" > \n",
       "<thead>    <tr> \n",
       "        <th class=\"blank level0\" ></th> \n",
       "        <th class=\"col_heading level0 col0\" >0</th> \n",
       "        <th class=\"col_heading level0 col1\" >1</th> \n",
       "        <th class=\"col_heading level0 col2\" >2</th> \n",
       "        <th class=\"col_heading level0 col3\" >3</th> \n",
       "        <th class=\"col_heading level0 col4\" >4</th> \n",
       "    </tr></thead> \n",
       "<tbody>    <tr> \n",
       "        <th id=\"T_592206b0_b51a_11e8_bfe4_72000075c7a0level0_row0\" class=\"row_heading level0 row0\" >0</th> \n",
       "        <td id=\"T_592206b0_b51a_11e8_bfe4_72000075c7a0row0_col0\" class=\"data row0 col0\" >1</td> \n",
       "        <td id=\"T_592206b0_b51a_11e8_bfe4_72000075c7a0row0_col1\" class=\"data row0 col1\" >1</td> \n",
       "        <td id=\"T_592206b0_b51a_11e8_bfe4_72000075c7a0row0_col2\" class=\"data row0 col2\" >0.5</td> \n",
       "        <td id=\"T_592206b0_b51a_11e8_bfe4_72000075c7a0row0_col3\" class=\"data row0 col3\" >0</td> \n",
       "        <td id=\"T_592206b0_b51a_11e8_bfe4_72000075c7a0row0_col4\" class=\"data row0 col4\" >0</td> \n",
       "    </tr>    <tr> \n",
       "        <th id=\"T_592206b0_b51a_11e8_bfe4_72000075c7a0level0_row1\" class=\"row_heading level0 row1\" >1</th> \n",
       "        <td id=\"T_592206b0_b51a_11e8_bfe4_72000075c7a0row1_col0\" class=\"data row1 col0\" >1</td> \n",
       "        <td id=\"T_592206b0_b51a_11e8_bfe4_72000075c7a0row1_col1\" class=\"data row1 col1\" >1</td> \n",
       "        <td id=\"T_592206b0_b51a_11e8_bfe4_72000075c7a0row1_col2\" class=\"data row1 col2\" >0.5</td> \n",
       "        <td id=\"T_592206b0_b51a_11e8_bfe4_72000075c7a0row1_col3\" class=\"data row1 col3\" >0.5</td> \n",
       "        <td id=\"T_592206b0_b51a_11e8_bfe4_72000075c7a0row1_col4\" class=\"data row1 col4\" >0</td> \n",
       "    </tr>    <tr> \n",
       "        <th id=\"T_592206b0_b51a_11e8_bfe4_72000075c7a0level0_row2\" class=\"row_heading level0 row2\" >2</th> \n",
       "        <td id=\"T_592206b0_b51a_11e8_bfe4_72000075c7a0row2_col0\" class=\"data row2 col0\" >1</td> \n",
       "        <td id=\"T_592206b0_b51a_11e8_bfe4_72000075c7a0row2_col1\" class=\"data row2 col1\" >0</td> \n",
       "        <td id=\"T_592206b0_b51a_11e8_bfe4_72000075c7a0row2_col2\" class=\"data row2 col2\" >0.5</td> \n",
       "        <td id=\"T_592206b0_b51a_11e8_bfe4_72000075c7a0row2_col3\" class=\"data row2 col3\" >0</td> \n",
       "        <td id=\"T_592206b0_b51a_11e8_bfe4_72000075c7a0row2_col4\" class=\"data row2 col4\" >0</td> \n",
       "    </tr></tbody> \n",
       "</table> "
      ],
      "text/plain": [
       "<pandas.io.formats.style.Styler at 0x11ae8fef0>"
      ]
     },
     "execution_count": 4,
     "metadata": {},
     "output_type": "execute_result"
    }
   ],
   "source": [
    "df.style.apply(background_gradient, cmap='summer')"
   ]
  },
  {
   "cell_type": "code",
   "execution_count": 5,
   "metadata": {},
   "outputs": [],
   "source": [
    "def background_gradient(s, m, M, cmap='summer', low=0, high=0):\n",
    "    rng = M - m\n",
    "    norm = colors.Normalize(m - (rng * low),\n",
    "                            M + (rng * high))\n",
    "    normed = norm(s.values)\n",
    "    c = [colors.rgb2hex(x) for x in plt.cm.get_cmap(cmap)(normed)]\n",
    "    return ['background-color: %s' % color for color in c]"
   ]
  },
  {
   "cell_type": "code",
   "execution_count": 6,
   "metadata": {},
   "outputs": [
    {
     "data": {
      "text/html": [
       "<style  type=\"text/css\" >\n",
       "    #T_59264228_b51a_11e8_bcba_72000075c7a0row0_col0 {\n",
       "            background-color:  #ffff66;\n",
       "        }    #T_59264228_b51a_11e8_bcba_72000075c7a0row0_col1 {\n",
       "            background-color:  #ffff66;\n",
       "        }    #T_59264228_b51a_11e8_bcba_72000075c7a0row0_col2 {\n",
       "            background-color:  #80c066;\n",
       "        }    #T_59264228_b51a_11e8_bcba_72000075c7a0row0_col3 {\n",
       "            background-color:  #008066;\n",
       "        }    #T_59264228_b51a_11e8_bcba_72000075c7a0row0_col4 {\n",
       "            background-color:  #008066;\n",
       "        }    #T_59264228_b51a_11e8_bcba_72000075c7a0row1_col0 {\n",
       "            background-color:  #ffff66;\n",
       "        }    #T_59264228_b51a_11e8_bcba_72000075c7a0row1_col1 {\n",
       "            background-color:  #ffff66;\n",
       "        }    #T_59264228_b51a_11e8_bcba_72000075c7a0row1_col2 {\n",
       "            background-color:  #80c066;\n",
       "        }    #T_59264228_b51a_11e8_bcba_72000075c7a0row1_col3 {\n",
       "            background-color:  #80c066;\n",
       "        }    #T_59264228_b51a_11e8_bcba_72000075c7a0row1_col4 {\n",
       "            background-color:  #008066;\n",
       "        }    #T_59264228_b51a_11e8_bcba_72000075c7a0row2_col0 {\n",
       "            background-color:  #ffff66;\n",
       "        }    #T_59264228_b51a_11e8_bcba_72000075c7a0row2_col1 {\n",
       "            background-color:  #008066;\n",
       "        }    #T_59264228_b51a_11e8_bcba_72000075c7a0row2_col2 {\n",
       "            background-color:  #80c066;\n",
       "        }    #T_59264228_b51a_11e8_bcba_72000075c7a0row2_col3 {\n",
       "            background-color:  #008066;\n",
       "        }    #T_59264228_b51a_11e8_bcba_72000075c7a0row2_col4 {\n",
       "            background-color:  #008066;\n",
       "        }</style>  \n",
       "<table id=\"T_59264228_b51a_11e8_bcba_72000075c7a0\" > \n",
       "<thead>    <tr> \n",
       "        <th class=\"blank level0\" ></th> \n",
       "        <th class=\"col_heading level0 col0\" >0</th> \n",
       "        <th class=\"col_heading level0 col1\" >1</th> \n",
       "        <th class=\"col_heading level0 col2\" >2</th> \n",
       "        <th class=\"col_heading level0 col3\" >3</th> \n",
       "        <th class=\"col_heading level0 col4\" >4</th> \n",
       "    </tr></thead> \n",
       "<tbody>    <tr> \n",
       "        <th id=\"T_59264228_b51a_11e8_bcba_72000075c7a0level0_row0\" class=\"row_heading level0 row0\" >0</th> \n",
       "        <td id=\"T_59264228_b51a_11e8_bcba_72000075c7a0row0_col0\" class=\"data row0 col0\" >1</td> \n",
       "        <td id=\"T_59264228_b51a_11e8_bcba_72000075c7a0row0_col1\" class=\"data row0 col1\" >1</td> \n",
       "        <td id=\"T_59264228_b51a_11e8_bcba_72000075c7a0row0_col2\" class=\"data row0 col2\" >0.5</td> \n",
       "        <td id=\"T_59264228_b51a_11e8_bcba_72000075c7a0row0_col3\" class=\"data row0 col3\" >0</td> \n",
       "        <td id=\"T_59264228_b51a_11e8_bcba_72000075c7a0row0_col4\" class=\"data row0 col4\" >0</td> \n",
       "    </tr>    <tr> \n",
       "        <th id=\"T_59264228_b51a_11e8_bcba_72000075c7a0level0_row1\" class=\"row_heading level0 row1\" >1</th> \n",
       "        <td id=\"T_59264228_b51a_11e8_bcba_72000075c7a0row1_col0\" class=\"data row1 col0\" >1</td> \n",
       "        <td id=\"T_59264228_b51a_11e8_bcba_72000075c7a0row1_col1\" class=\"data row1 col1\" >1</td> \n",
       "        <td id=\"T_59264228_b51a_11e8_bcba_72000075c7a0row1_col2\" class=\"data row1 col2\" >0.5</td> \n",
       "        <td id=\"T_59264228_b51a_11e8_bcba_72000075c7a0row1_col3\" class=\"data row1 col3\" >0.5</td> \n",
       "        <td id=\"T_59264228_b51a_11e8_bcba_72000075c7a0row1_col4\" class=\"data row1 col4\" >0</td> \n",
       "    </tr>    <tr> \n",
       "        <th id=\"T_59264228_b51a_11e8_bcba_72000075c7a0level0_row2\" class=\"row_heading level0 row2\" >2</th> \n",
       "        <td id=\"T_59264228_b51a_11e8_bcba_72000075c7a0row2_col0\" class=\"data row2 col0\" >1</td> \n",
       "        <td id=\"T_59264228_b51a_11e8_bcba_72000075c7a0row2_col1\" class=\"data row2 col1\" >0</td> \n",
       "        <td id=\"T_59264228_b51a_11e8_bcba_72000075c7a0row2_col2\" class=\"data row2 col2\" >0.5</td> \n",
       "        <td id=\"T_59264228_b51a_11e8_bcba_72000075c7a0row2_col3\" class=\"data row2 col3\" >0</td> \n",
       "        <td id=\"T_59264228_b51a_11e8_bcba_72000075c7a0row2_col4\" class=\"data row2 col4\" >0</td> \n",
       "    </tr></tbody> \n",
       "</table> "
      ],
      "text/plain": [
       "<pandas.io.formats.style.Styler at 0x11ae8f470>"
      ]
     },
     "execution_count": 6,
     "metadata": {},
     "output_type": "execute_result"
    }
   ],
   "source": [
    "df.style.apply(background_gradient, \n",
    "               m=df.min().min(), \n",
    "               M=df.max().max(), \n",
    "               cmap='summer')"
   ]
  },
  {
   "cell_type": "code",
   "execution_count": null,
   "metadata": {},
   "outputs": [],
   "source": []
  },
  {
   "cell_type": "code",
   "execution_count": null,
   "metadata": {},
   "outputs": [],
   "source": []
  }
 ],
 "metadata": {
  "kernelspec": {
   "display_name": "Python 3",
   "language": "python",
   "name": "python3"
  },
  "language_info": {
   "codemirror_mode": {
    "name": "ipython",
    "version": 3
   },
   "file_extension": ".py",
   "mimetype": "text/x-python",
   "name": "python",
   "nbconvert_exporter": "python",
   "pygments_lexer": "ipython3",
   "version": "3.6.6"
  }
 },
 "nbformat": 4,
 "nbformat_minor": 2
}
