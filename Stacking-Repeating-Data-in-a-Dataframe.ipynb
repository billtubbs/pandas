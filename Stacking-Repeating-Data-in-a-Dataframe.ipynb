{
 "cells": [
  {
   "cell_type": "markdown",
   "metadata": {},
   "source": [
    "# Stacking Repeating Data in a Dataframe\n",
    "\n",
    "This is an answer to the following Stackoverflow question:\n",
    "- https://stackoverflow.com/q/62843577/1609514"
   ]
  },
  {
   "cell_type": "code",
   "execution_count": 1,
   "metadata": {},
   "outputs": [],
   "source": [
    "import numpy as np\n",
    "import pandas as pd"
   ]
  },
  {
   "cell_type": "code",
   "execution_count": 2,
   "metadata": {},
   "outputs": [
    {
     "name": "stdout",
     "output_type": "stream",
     "text": [
      "  State       City\n",
      "0    NY     Albany\n",
      "1    NY        NYC\n",
      "2    MA     Boston\n",
      "3    MA  Cambridge\n"
     ]
    }
   ],
   "source": [
    "# Here is a sample of your current data:\n",
    "data = [['NY',     'Albany'],\n",
    "        ['NY',     'NYC'],\n",
    "        ['MA',     'Boston'],\n",
    "        ['MA',     'Cambridge']]\n",
    "cities = pd.DataFrame(data, columns=['State', 'City'])\n",
    "print(cities)"
   ]
  },
  {
   "cell_type": "code",
   "execution_count": 3,
   "metadata": {},
   "outputs": [
    {
     "name": "stdout",
     "output_type": "stream",
     "text": [
      "MultiIndex([('NY',    'Albany'),\n",
      "            ('NY',       'NYC'),\n",
      "            ('MA',    'Boston'),\n",
      "            ('MA', 'Cambridge')],\n",
      "           names=['State', 'City'])\n"
     ]
    }
   ],
   "source": [
    "# First, make this into a multi-level index\n",
    "# (this will end up in the final dataframe):\n",
    "cities_index = pd.MultiIndex.from_frame(cities)\n",
    "print(cities_index)"
   ]
  },
  {
   "cell_type": "code",
   "execution_count": 4,
   "metadata": {},
   "outputs": [
    {
     "name": "stdout",
     "output_type": "stream",
     "text": [
      "Year index          0     1     2\n",
      "State City                       \n",
      "NY    Albany     2000  2001  2002\n",
      "      NYC        2000  2001  2002\n",
      "MA    Boston     2000  2001  2002\n",
      "      Cambridge  2000  2001  2002\n"
     ]
    }
   ],
   "source": [
    "# Now, make a dataframe with all the years in it:\n",
    "years = list(range(2000, 2003))\n",
    "n_cities = len(cities)\n",
    "years_data = np.repeat(years, n_cities).reshape(len(years), n_cities).T\n",
    "years_data = pd.DataFrame(years_data, index=cities_index)\n",
    "years_data.columns.name = 'Year index'\n",
    "print(years_data)"
   ]
  },
  {
   "cell_type": "code",
   "execution_count": 5,
   "metadata": {},
   "outputs": [
    {
     "name": "stdout",
     "output_type": "stream",
     "text": [
      "State  City    Year index\n",
      "NY     Albany  0             2000\n",
      "               1             2001\n",
      "               2             2002\n",
      "       NYC     0             2000\n",
      "               1             2001\n",
      "Name: Year, dtype: int64\n"
     ]
    }
   ],
   "source": [
    "# Finally, use stack to transform this dataframe into \n",
    "# a vertically-stacked series:\n",
    "years_by_city = years_data.stack().rename('Year')\n",
    "print(years_by_city.head())"
   ]
  },
  {
   "cell_type": "code",
   "execution_count": 6,
   "metadata": {},
   "outputs": [
    {
     "data": {
      "text/plain": [
       "MultiIndex([('NY',    'Albany', 0),\n",
       "            ('NY',    'Albany', 1),\n",
       "            ('NY',    'Albany', 2),\n",
       "            ('NY',       'NYC', 0),\n",
       "            ('NY',       'NYC', 1),\n",
       "            ('NY',       'NYC', 2),\n",
       "            ('MA',    'Boston', 0),\n",
       "            ('MA',    'Boston', 1),\n",
       "            ('MA',    'Boston', 2),\n",
       "            ('MA', 'Cambridge', 0),\n",
       "            ('MA', 'Cambridge', 1),\n",
       "            ('MA', 'Cambridge', 2)],\n",
       "           names=['State', 'City', 'Year index'])"
      ]
     },
     "execution_count": 6,
     "metadata": {},
     "output_type": "execute_result"
    }
   ],
   "source": [
    "# Remove the index and put all the values in a dataframe\n",
    "years_by_city.index"
   ]
  },
  {
   "cell_type": "code",
   "execution_count": 7,
   "metadata": {},
   "outputs": [
    {
     "data": {
      "text/html": [
       "<div>\n",
       "<style scoped>\n",
       "    .dataframe tbody tr th:only-of-type {\n",
       "        vertical-align: middle;\n",
       "    }\n",
       "\n",
       "    .dataframe tbody tr th {\n",
       "        vertical-align: top;\n",
       "    }\n",
       "\n",
       "    .dataframe thead th {\n",
       "        text-align: right;\n",
       "    }\n",
       "</style>\n",
       "<table border=\"1\" class=\"dataframe\">\n",
       "  <thead>\n",
       "    <tr style=\"text-align: right;\">\n",
       "      <th></th>\n",
       "      <th>State</th>\n",
       "      <th>City</th>\n",
       "      <th>Year index</th>\n",
       "      <th>Year</th>\n",
       "    </tr>\n",
       "  </thead>\n",
       "  <tbody>\n",
       "    <tr>\n",
       "      <th>0</th>\n",
       "      <td>NY</td>\n",
       "      <td>Albany</td>\n",
       "      <td>0</td>\n",
       "      <td>2000</td>\n",
       "    </tr>\n",
       "    <tr>\n",
       "      <th>1</th>\n",
       "      <td>NY</td>\n",
       "      <td>Albany</td>\n",
       "      <td>1</td>\n",
       "      <td>2001</td>\n",
       "    </tr>\n",
       "    <tr>\n",
       "      <th>2</th>\n",
       "      <td>NY</td>\n",
       "      <td>Albany</td>\n",
       "      <td>2</td>\n",
       "      <td>2002</td>\n",
       "    </tr>\n",
       "    <tr>\n",
       "      <th>3</th>\n",
       "      <td>NY</td>\n",
       "      <td>NYC</td>\n",
       "      <td>0</td>\n",
       "      <td>2000</td>\n",
       "    </tr>\n",
       "    <tr>\n",
       "      <th>4</th>\n",
       "      <td>NY</td>\n",
       "      <td>NYC</td>\n",
       "      <td>1</td>\n",
       "      <td>2001</td>\n",
       "    </tr>\n",
       "    <tr>\n",
       "      <th>5</th>\n",
       "      <td>NY</td>\n",
       "      <td>NYC</td>\n",
       "      <td>2</td>\n",
       "      <td>2002</td>\n",
       "    </tr>\n",
       "    <tr>\n",
       "      <th>6</th>\n",
       "      <td>MA</td>\n",
       "      <td>Boston</td>\n",
       "      <td>0</td>\n",
       "      <td>2000</td>\n",
       "    </tr>\n",
       "    <tr>\n",
       "      <th>7</th>\n",
       "      <td>MA</td>\n",
       "      <td>Boston</td>\n",
       "      <td>1</td>\n",
       "      <td>2001</td>\n",
       "    </tr>\n",
       "    <tr>\n",
       "      <th>8</th>\n",
       "      <td>MA</td>\n",
       "      <td>Boston</td>\n",
       "      <td>2</td>\n",
       "      <td>2002</td>\n",
       "    </tr>\n",
       "    <tr>\n",
       "      <th>9</th>\n",
       "      <td>MA</td>\n",
       "      <td>Cambridge</td>\n",
       "      <td>0</td>\n",
       "      <td>2000</td>\n",
       "    </tr>\n",
       "    <tr>\n",
       "      <th>10</th>\n",
       "      <td>MA</td>\n",
       "      <td>Cambridge</td>\n",
       "      <td>1</td>\n",
       "      <td>2001</td>\n",
       "    </tr>\n",
       "    <tr>\n",
       "      <th>11</th>\n",
       "      <td>MA</td>\n",
       "      <td>Cambridge</td>\n",
       "      <td>2</td>\n",
       "      <td>2002</td>\n",
       "    </tr>\n",
       "  </tbody>\n",
       "</table>\n",
       "</div>"
      ],
      "text/plain": [
       "   State       City  Year index  Year\n",
       "0     NY     Albany           0  2000\n",
       "1     NY     Albany           1  2001\n",
       "2     NY     Albany           2  2002\n",
       "3     NY        NYC           0  2000\n",
       "4     NY        NYC           1  2001\n",
       "5     NY        NYC           2  2002\n",
       "6     MA     Boston           0  2000\n",
       "7     MA     Boston           1  2001\n",
       "8     MA     Boston           2  2002\n",
       "9     MA  Cambridge           0  2000\n",
       "10    MA  Cambridge           1  2001\n",
       "11    MA  Cambridge           2  2002"
      ]
     },
     "execution_count": 7,
     "metadata": {},
     "output_type": "execute_result"
    }
   ],
   "source": [
    "cities_and_years = years_by_city.reset_index()\n",
    "cities_and_years"
   ]
  },
  {
   "cell_type": "markdown",
   "metadata": {},
   "source": [
    "## Much Simpler Alternative"
   ]
  },
  {
   "cell_type": "code",
   "execution_count": 8,
   "metadata": {},
   "outputs": [
    {
     "data": {
      "text/html": [
       "<div>\n",
       "<style scoped>\n",
       "    .dataframe tbody tr th:only-of-type {\n",
       "        vertical-align: middle;\n",
       "    }\n",
       "\n",
       "    .dataframe tbody tr th {\n",
       "        vertical-align: top;\n",
       "    }\n",
       "\n",
       "    .dataframe thead th {\n",
       "        text-align: right;\n",
       "    }\n",
       "</style>\n",
       "<table border=\"1\" class=\"dataframe\">\n",
       "  <thead>\n",
       "    <tr style=\"text-align: right;\">\n",
       "      <th></th>\n",
       "      <th>State</th>\n",
       "      <th>City</th>\n",
       "      <th>Year</th>\n",
       "    </tr>\n",
       "  </thead>\n",
       "  <tbody>\n",
       "    <tr>\n",
       "      <th>0</th>\n",
       "      <td>NY</td>\n",
       "      <td>Albany</td>\n",
       "      <td>2000</td>\n",
       "    </tr>\n",
       "    <tr>\n",
       "      <th>0</th>\n",
       "      <td>NY</td>\n",
       "      <td>Albany</td>\n",
       "      <td>2001</td>\n",
       "    </tr>\n",
       "    <tr>\n",
       "      <th>0</th>\n",
       "      <td>NY</td>\n",
       "      <td>Albany</td>\n",
       "      <td>2002</td>\n",
       "    </tr>\n",
       "    <tr>\n",
       "      <th>0</th>\n",
       "      <td>NY</td>\n",
       "      <td>Albany</td>\n",
       "      <td>2003</td>\n",
       "    </tr>\n",
       "    <tr>\n",
       "      <th>0</th>\n",
       "      <td>NY</td>\n",
       "      <td>Albany</td>\n",
       "      <td>2004</td>\n",
       "    </tr>\n",
       "    <tr>\n",
       "      <th>...</th>\n",
       "      <td>...</td>\n",
       "      <td>...</td>\n",
       "      <td>...</td>\n",
       "    </tr>\n",
       "    <tr>\n",
       "      <th>3</th>\n",
       "      <td>MA</td>\n",
       "      <td>Cambridge</td>\n",
       "      <td>2014</td>\n",
       "    </tr>\n",
       "    <tr>\n",
       "      <th>3</th>\n",
       "      <td>MA</td>\n",
       "      <td>Cambridge</td>\n",
       "      <td>2015</td>\n",
       "    </tr>\n",
       "    <tr>\n",
       "      <th>3</th>\n",
       "      <td>MA</td>\n",
       "      <td>Cambridge</td>\n",
       "      <td>2016</td>\n",
       "    </tr>\n",
       "    <tr>\n",
       "      <th>3</th>\n",
       "      <td>MA</td>\n",
       "      <td>Cambridge</td>\n",
       "      <td>2017</td>\n",
       "    </tr>\n",
       "    <tr>\n",
       "      <th>3</th>\n",
       "      <td>MA</td>\n",
       "      <td>Cambridge</td>\n",
       "      <td>2018</td>\n",
       "    </tr>\n",
       "  </tbody>\n",
       "</table>\n",
       "<p>76 rows × 3 columns</p>\n",
       "</div>"
      ],
      "text/plain": [
       "   State       City  Year\n",
       "0     NY     Albany  2000\n",
       "0     NY     Albany  2001\n",
       "0     NY     Albany  2002\n",
       "0     NY     Albany  2003\n",
       "0     NY     Albany  2004\n",
       "..   ...        ...   ...\n",
       "3     MA  Cambridge  2014\n",
       "3     MA  Cambridge  2015\n",
       "3     MA  Cambridge  2016\n",
       "3     MA  Cambridge  2017\n",
       "3     MA  Cambridge  2018\n",
       "\n",
       "[76 rows x 3 columns]"
      ]
     },
     "execution_count": 8,
     "metadata": {},
     "output_type": "execute_result"
    }
   ],
   "source": [
    "# (This is new in Pandas version 0.25.0)\n",
    "cities['Year'] = [list(range(2000,2019))] * len(cities)\n",
    "years_by_city = cities.explode('Year')\n",
    "years_by_city"
   ]
  },
  {
   "cell_type": "code",
   "execution_count": null,
   "metadata": {},
   "outputs": [],
   "source": []
  },
  {
   "cell_type": "code",
   "execution_count": null,
   "metadata": {},
   "outputs": [],
   "source": []
  },
  {
   "cell_type": "code",
   "execution_count": null,
   "metadata": {},
   "outputs": [],
   "source": []
  }
 ],
 "metadata": {
  "kernelspec": {
   "display_name": "Python [conda env:torch]",
   "language": "python",
   "name": "conda-env-torch-py"
  },
  "language_info": {
   "codemirror_mode": {
    "name": "ipython",
    "version": 3
   },
   "file_extension": ".py",
   "mimetype": "text/x-python",
   "name": "python",
   "nbconvert_exporter": "python",
   "pygments_lexer": "ipython3",
   "version": "3.6.10"
  }
 },
 "nbformat": 4,
 "nbformat_minor": 4
}
