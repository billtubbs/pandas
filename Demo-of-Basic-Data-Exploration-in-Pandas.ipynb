{
 "cells": [
  {
   "cell_type": "markdown",
   "id": "e902434e",
   "metadata": {},
   "source": [
    "# Demo of Basic Data Exploration in Pandas"
   ]
  },
  {
   "cell_type": "code",
   "execution_count": 1,
   "id": "9a449b98",
   "metadata": {},
   "outputs": [
    {
     "data": {
      "text/plain": [
       "'3.8.3'"
      ]
     },
     "execution_count": 1,
     "metadata": {},
     "output_type": "execute_result"
    }
   ],
   "source": [
    "import pandas as pd\n",
    "import numpy as np\n",
    "import matplotlib.pyplot as plt\n",
    "\n",
    "from platform import python_version\n",
    "python_version()"
   ]
  },
  {
   "cell_type": "markdown",
   "id": "70f2274e",
   "metadata": {},
   "source": [
    "## Setup – create and save a csv file with example data"
   ]
  },
  {
   "cell_type": "code",
   "execution_count": 2,
   "id": "41879f79",
   "metadata": {},
   "outputs": [],
   "source": [
    "np.random.seed(1)\n",
    "labels = np.random.choice([\"\", \"BAD\"], p=[0.6, 0.4], size=8);\n",
    "random_numbers = [np.random.random() if x != \"BAD\" else \"#VALUE\" for x in labels]\n",
    "df = pd.DataFrame(\n",
    "    {\n",
    "        \"A\": pd.date_range(\"2013-01-02\", \"2013-01-09\"),\n",
    "        \"B\": \"foo\",\n",
    "        \"C\": np.arange(3, 11),  # int64\n",
    "        \"D\": np.array([5] * 8, dtype=\"int32\"),\n",
    "        \"E\": np.random.random(8),\n",
    "        \"F\": random_numbers,\n",
    "        \"G\": labels,\n",
    "        \"H\": pd.Categorical([\"day\", \"night\"]*4)\n",
    "    },\n",
    "    index = np.arange(100, 108)\n",
    ")\n",
    "df.to_csv(\"my_data.csv\")"
   ]
  },
  {
   "cell_type": "markdown",
   "id": "0b69d534",
   "metadata": {},
   "source": [
    "## Demonstrate loading CSV file and quickly looking at data"
   ]
  },
  {
   "cell_type": "code",
   "execution_count": 3,
   "id": "20560e96",
   "metadata": {},
   "outputs": [
    {
     "data": {
      "text/html": [
       "<div>\n",
       "<style scoped>\n",
       "    .dataframe tbody tr th:only-of-type {\n",
       "        vertical-align: middle;\n",
       "    }\n",
       "\n",
       "    .dataframe tbody tr th {\n",
       "        vertical-align: top;\n",
       "    }\n",
       "\n",
       "    .dataframe thead th {\n",
       "        text-align: right;\n",
       "    }\n",
       "</style>\n",
       "<table border=\"1\" class=\"dataframe\">\n",
       "  <thead>\n",
       "    <tr style=\"text-align: right;\">\n",
       "      <th></th>\n",
       "      <th>Unnamed: 0</th>\n",
       "      <th>A</th>\n",
       "      <th>B</th>\n",
       "      <th>C</th>\n",
       "      <th>D</th>\n",
       "      <th>E</th>\n",
       "      <th>F</th>\n",
       "      <th>G</th>\n",
       "      <th>H</th>\n",
       "    </tr>\n",
       "  </thead>\n",
       "  <tbody>\n",
       "    <tr>\n",
       "      <th>0</th>\n",
       "      <td>100</td>\n",
       "      <td>2013-01-02</td>\n",
       "      <td>foo</td>\n",
       "      <td>3</td>\n",
       "      <td>5</td>\n",
       "      <td>0.670468</td>\n",
       "      <td>0.39676747423066994</td>\n",
       "      <td>NaN</td>\n",
       "      <td>day</td>\n",
       "    </tr>\n",
       "    <tr>\n",
       "      <th>1</th>\n",
       "      <td>101</td>\n",
       "      <td>2013-01-03</td>\n",
       "      <td>foo</td>\n",
       "      <td>4</td>\n",
       "      <td>5</td>\n",
       "      <td>0.417305</td>\n",
       "      <td>#VALUE</td>\n",
       "      <td>BAD</td>\n",
       "      <td>night</td>\n",
       "    </tr>\n",
       "    <tr>\n",
       "      <th>2</th>\n",
       "      <td>102</td>\n",
       "      <td>2013-01-04</td>\n",
       "      <td>foo</td>\n",
       "      <td>5</td>\n",
       "      <td>5</td>\n",
       "      <td>0.558690</td>\n",
       "      <td>0.538816734003357</td>\n",
       "      <td>NaN</td>\n",
       "      <td>day</td>\n",
       "    </tr>\n",
       "    <tr>\n",
       "      <th>3</th>\n",
       "      <td>103</td>\n",
       "      <td>2013-01-05</td>\n",
       "      <td>foo</td>\n",
       "      <td>6</td>\n",
       "      <td>5</td>\n",
       "      <td>0.140387</td>\n",
       "      <td>0.4191945144032948</td>\n",
       "      <td>NaN</td>\n",
       "      <td>night</td>\n",
       "    </tr>\n",
       "    <tr>\n",
       "      <th>4</th>\n",
       "      <td>104</td>\n",
       "      <td>2013-01-06</td>\n",
       "      <td>foo</td>\n",
       "      <td>7</td>\n",
       "      <td>5</td>\n",
       "      <td>0.198101</td>\n",
       "      <td>0.6852195003967595</td>\n",
       "      <td>NaN</td>\n",
       "      <td>day</td>\n",
       "    </tr>\n",
       "  </tbody>\n",
       "</table>\n",
       "</div>"
      ],
      "text/plain": [
       "   Unnamed: 0           A    B  C  D         E                    F    G  \\\n",
       "0         100  2013-01-02  foo  3  5  0.670468  0.39676747423066994  NaN   \n",
       "1         101  2013-01-03  foo  4  5  0.417305               #VALUE  BAD   \n",
       "2         102  2013-01-04  foo  5  5  0.558690    0.538816734003357  NaN   \n",
       "3         103  2013-01-05  foo  6  5  0.140387   0.4191945144032948  NaN   \n",
       "4         104  2013-01-06  foo  7  5  0.198101   0.6852195003967595  NaN   \n",
       "\n",
       "       H  \n",
       "0    day  \n",
       "1  night  \n",
       "2    day  \n",
       "3  night  \n",
       "4    day  "
      ]
     },
     "execution_count": 3,
     "metadata": {},
     "output_type": "execute_result"
    }
   ],
   "source": [
    "df = pd.read_csv(\"my_data.csv\")\n",
    "df.head()"
   ]
  },
  {
   "cell_type": "code",
   "execution_count": 4,
   "id": "93b7336f",
   "metadata": {},
   "outputs": [
    {
     "data": {
      "text/html": [
       "<div>\n",
       "<style scoped>\n",
       "    .dataframe tbody tr th:only-of-type {\n",
       "        vertical-align: middle;\n",
       "    }\n",
       "\n",
       "    .dataframe tbody tr th {\n",
       "        vertical-align: top;\n",
       "    }\n",
       "\n",
       "    .dataframe thead th {\n",
       "        text-align: right;\n",
       "    }\n",
       "</style>\n",
       "<table border=\"1\" class=\"dataframe\">\n",
       "  <thead>\n",
       "    <tr style=\"text-align: right;\">\n",
       "      <th></th>\n",
       "      <th>A</th>\n",
       "      <th>B</th>\n",
       "      <th>C</th>\n",
       "      <th>D</th>\n",
       "      <th>E</th>\n",
       "      <th>F</th>\n",
       "      <th>G</th>\n",
       "      <th>H</th>\n",
       "    </tr>\n",
       "    <tr>\n",
       "      <th>ID</th>\n",
       "      <th></th>\n",
       "      <th></th>\n",
       "      <th></th>\n",
       "      <th></th>\n",
       "      <th></th>\n",
       "      <th></th>\n",
       "      <th></th>\n",
       "      <th></th>\n",
       "    </tr>\n",
       "  </thead>\n",
       "  <tbody>\n",
       "    <tr>\n",
       "      <th>100</th>\n",
       "      <td>2013-01-02</td>\n",
       "      <td>foo</td>\n",
       "      <td>3</td>\n",
       "      <td>5</td>\n",
       "      <td>0.670468</td>\n",
       "      <td>0.39676747423066994</td>\n",
       "      <td>NaN</td>\n",
       "      <td>day</td>\n",
       "    </tr>\n",
       "    <tr>\n",
       "      <th>101</th>\n",
       "      <td>2013-01-03</td>\n",
       "      <td>foo</td>\n",
       "      <td>4</td>\n",
       "      <td>5</td>\n",
       "      <td>0.417305</td>\n",
       "      <td>#VALUE</td>\n",
       "      <td>BAD</td>\n",
       "      <td>night</td>\n",
       "    </tr>\n",
       "    <tr>\n",
       "      <th>102</th>\n",
       "      <td>2013-01-04</td>\n",
       "      <td>foo</td>\n",
       "      <td>5</td>\n",
       "      <td>5</td>\n",
       "      <td>0.558690</td>\n",
       "      <td>0.538816734003357</td>\n",
       "      <td>NaN</td>\n",
       "      <td>day</td>\n",
       "    </tr>\n",
       "    <tr>\n",
       "      <th>103</th>\n",
       "      <td>2013-01-05</td>\n",
       "      <td>foo</td>\n",
       "      <td>6</td>\n",
       "      <td>5</td>\n",
       "      <td>0.140387</td>\n",
       "      <td>0.4191945144032948</td>\n",
       "      <td>NaN</td>\n",
       "      <td>night</td>\n",
       "    </tr>\n",
       "    <tr>\n",
       "      <th>104</th>\n",
       "      <td>2013-01-06</td>\n",
       "      <td>foo</td>\n",
       "      <td>7</td>\n",
       "      <td>5</td>\n",
       "      <td>0.198101</td>\n",
       "      <td>0.6852195003967595</td>\n",
       "      <td>NaN</td>\n",
       "      <td>day</td>\n",
       "    </tr>\n",
       "  </tbody>\n",
       "</table>\n",
       "</div>"
      ],
      "text/plain": [
       "              A    B  C  D         E                    F    G      H\n",
       "ID                                                                   \n",
       "100  2013-01-02  foo  3  5  0.670468  0.39676747423066994  NaN    day\n",
       "101  2013-01-03  foo  4  5  0.417305               #VALUE  BAD  night\n",
       "102  2013-01-04  foo  5  5  0.558690    0.538816734003357  NaN    day\n",
       "103  2013-01-05  foo  6  5  0.140387   0.4191945144032948  NaN  night\n",
       "104  2013-01-06  foo  7  5  0.198101   0.6852195003967595  NaN    day"
      ]
     },
     "execution_count": 4,
     "metadata": {},
     "output_type": "execute_result"
    }
   ],
   "source": [
    "# Reload, assigning selected column as index\n",
    "df = pd.read_csv(\"my_data.csv\", index_col=0)\n",
    "df.index.name = 'ID'\n",
    "df.head()"
   ]
  },
  {
   "cell_type": "code",
   "execution_count": 5,
   "id": "2d84e045",
   "metadata": {},
   "outputs": [
    {
     "data": {
      "image/png": "[encoded data removed]",
      "text/plain": [
       "<Figure size 432x288 with 1 Axes>"
      ]
     },
     "metadata": {
      "needs_background": "light"
     },
     "output_type": "display_data"
    }
   ],
   "source": [
    "df.plot()  # No settings; \"does it's best\"\n",
    "plt.show()"
   ]
  },
  {
   "cell_type": "code",
   "execution_count": 6,
   "id": "600491c2",
   "metadata": {},
   "outputs": [
    {
     "data": {
      "text/html": [
       "<div>\n",
       "<style scoped>\n",
       "    .dataframe tbody tr th:only-of-type {\n",
       "        vertical-align: middle;\n",
       "    }\n",
       "\n",
       "    .dataframe tbody tr th {\n",
       "        vertical-align: top;\n",
       "    }\n",
       "\n",
       "    .dataframe thead th {\n",
       "        text-align: right;\n",
       "    }\n",
       "</style>\n",
       "<table border=\"1\" class=\"dataframe\">\n",
       "  <thead>\n",
       "    <tr style=\"text-align: right;\">\n",
       "      <th></th>\n",
       "      <th>C</th>\n",
       "      <th>D</th>\n",
       "      <th>E</th>\n",
       "    </tr>\n",
       "  </thead>\n",
       "  <tbody>\n",
       "    <tr>\n",
       "      <th>count</th>\n",
       "      <td>8.00000</td>\n",
       "      <td>8.0</td>\n",
       "      <td>8.000000</td>\n",
       "    </tr>\n",
       "    <tr>\n",
       "      <th>mean</th>\n",
       "      <td>6.50000</td>\n",
       "      <td>5.0</td>\n",
       "      <td>0.508423</td>\n",
       "    </tr>\n",
       "    <tr>\n",
       "      <th>std</th>\n",
       "      <td>2.44949</td>\n",
       "      <td>0.0</td>\n",
       "      <td>0.293687</td>\n",
       "    </tr>\n",
       "    <tr>\n",
       "      <th>min</th>\n",
       "      <td>3.00000</td>\n",
       "      <td>5.0</td>\n",
       "      <td>0.140387</td>\n",
       "    </tr>\n",
       "    <tr>\n",
       "      <th>25%</th>\n",
       "      <td>4.75000</td>\n",
       "      <td>5.0</td>\n",
       "      <td>0.284594</td>\n",
       "    </tr>\n",
       "    <tr>\n",
       "      <th>50%</th>\n",
       "      <td>6.50000</td>\n",
       "      <td>5.0</td>\n",
       "      <td>0.487997</td>\n",
       "    </tr>\n",
       "    <tr>\n",
       "      <th>75%</th>\n",
       "      <td>8.25000</td>\n",
       "      <td>5.0</td>\n",
       "      <td>0.703037</td>\n",
       "    </tr>\n",
       "    <tr>\n",
       "      <th>max</th>\n",
       "      <td>10.00000</td>\n",
       "      <td>5.0</td>\n",
       "      <td>0.968262</td>\n",
       "    </tr>\n",
       "  </tbody>\n",
       "</table>\n",
       "</div>"
      ],
      "text/plain": [
       "              C    D         E\n",
       "count   8.00000  8.0  8.000000\n",
       "mean    6.50000  5.0  0.508423\n",
       "std     2.44949  0.0  0.293687\n",
       "min     3.00000  5.0  0.140387\n",
       "25%     4.75000  5.0  0.284594\n",
       "50%     6.50000  5.0  0.487997\n",
       "75%     8.25000  5.0  0.703037\n",
       "max    10.00000  5.0  0.968262"
      ]
     },
     "execution_count": 6,
     "metadata": {},
     "output_type": "execute_result"
    }
   ],
   "source": [
    "df.describe()"
   ]
  },
  {
   "cell_type": "code",
   "execution_count": 7,
   "id": "4dad7627",
   "metadata": {},
   "outputs": [
    {
     "data": {
      "text/plain": [
       "A     object\n",
       "B     object\n",
       "C      int64\n",
       "D      int64\n",
       "E    float64\n",
       "F     object\n",
       "G     object\n",
       "H     object\n",
       "dtype: object"
      ]
     },
     "execution_count": 7,
     "metadata": {},
     "output_type": "execute_result"
    }
   ],
   "source": [
    "# Inspect inferred types\n",
    "df.dtypes"
   ]
  },
  {
   "cell_type": "markdown",
   "id": "931e9add",
   "metadata": {},
   "source": [
    "## More in-depth pre-processing and visualisations"
   ]
  },
  {
   "cell_type": "code",
   "execution_count": 8,
   "id": "7600a775",
   "metadata": {},
   "outputs": [
    {
     "data": {
      "text/plain": [
       "A    datetime64[ns]\n",
       "B            object\n",
       "C             int64\n",
       "D             int64\n",
       "E           float64\n",
       "F           float64\n",
       "G            object\n",
       "H            object\n",
       "dtype: object"
      ]
     },
     "execution_count": 8,
     "metadata": {},
     "output_type": "execute_result"
    }
   ],
   "source": [
    "df['A'] = pd.to_datetime(df['A'])\n",
    "\n",
    "number_cols = ['C', 'D', 'E', 'F']\n",
    "for label in number_cols:\n",
    "    df[label] = pd.to_numeric(df[label], errors=\"coerce\")\n",
    "\n",
    "df.dtypes"
   ]
  },
  {
   "cell_type": "code",
   "execution_count": 9,
   "id": "76796ee9",
   "metadata": {},
   "outputs": [
    {
     "data": {
      "image/png": "[encoded data removed]",
      "text/plain": [
       "<Figure size 432x288 with 1 Axes>"
      ]
     },
     "metadata": {
      "needs_background": "light"
     },
     "output_type": "display_data"
    }
   ],
   "source": [
    "df[number_cols].plot()\n",
    "plt.show()"
   ]
  },
  {
   "cell_type": "code",
   "execution_count": 10,
   "id": "6470d780",
   "metadata": {},
   "outputs": [
    {
     "data": {
      "text/html": [
       "<div>\n",
       "<style scoped>\n",
       "    .dataframe tbody tr th:only-of-type {\n",
       "        vertical-align: middle;\n",
       "    }\n",
       "\n",
       "    .dataframe tbody tr th {\n",
       "        vertical-align: top;\n",
       "    }\n",
       "\n",
       "    .dataframe thead th {\n",
       "        text-align: right;\n",
       "    }\n",
       "</style>\n",
       "<table border=\"1\" class=\"dataframe\">\n",
       "  <thead>\n",
       "    <tr style=\"text-align: right;\">\n",
       "      <th></th>\n",
       "      <th>C</th>\n",
       "      <th>D</th>\n",
       "      <th>E</th>\n",
       "      <th>F</th>\n",
       "    </tr>\n",
       "  </thead>\n",
       "  <tbody>\n",
       "    <tr>\n",
       "      <th>count</th>\n",
       "      <td>8.00000</td>\n",
       "      <td>8.0</td>\n",
       "      <td>8.000000</td>\n",
       "      <td>7.000000</td>\n",
       "    </tr>\n",
       "    <tr>\n",
       "      <th>mean</th>\n",
       "      <td>6.50000</td>\n",
       "      <td>5.0</td>\n",
       "      <td>0.508423</td>\n",
       "      <td>0.449994</td>\n",
       "    </tr>\n",
       "    <tr>\n",
       "      <th>std</th>\n",
       "      <td>2.44949</td>\n",
       "      <td>0.0</td>\n",
       "      <td>0.293687</td>\n",
       "      <td>0.285534</td>\n",
       "    </tr>\n",
       "    <tr>\n",
       "      <th>min</th>\n",
       "      <td>3.00000</td>\n",
       "      <td>5.0</td>\n",
       "      <td>0.140387</td>\n",
       "      <td>0.027388</td>\n",
       "    </tr>\n",
       "    <tr>\n",
       "      <th>25%</th>\n",
       "      <td>4.75000</td>\n",
       "      <td>5.0</td>\n",
       "      <td>0.284594</td>\n",
       "      <td>0.300610</td>\n",
       "    </tr>\n",
       "    <tr>\n",
       "      <th>50%</th>\n",
       "      <td>6.50000</td>\n",
       "      <td>5.0</td>\n",
       "      <td>0.487997</td>\n",
       "      <td>0.419195</td>\n",
       "    </tr>\n",
       "    <tr>\n",
       "      <th>75%</th>\n",
       "      <td>8.25000</td>\n",
       "      <td>5.0</td>\n",
       "      <td>0.703037</td>\n",
       "      <td>0.612018</td>\n",
       "    </tr>\n",
       "    <tr>\n",
       "      <th>max</th>\n",
       "      <td>10.00000</td>\n",
       "      <td>5.0</td>\n",
       "      <td>0.968262</td>\n",
       "      <td>0.878117</td>\n",
       "    </tr>\n",
       "  </tbody>\n",
       "</table>\n",
       "</div>"
      ],
      "text/plain": [
       "              C    D         E         F\n",
       "count   8.00000  8.0  8.000000  7.000000\n",
       "mean    6.50000  5.0  0.508423  0.449994\n",
       "std     2.44949  0.0  0.293687  0.285534\n",
       "min     3.00000  5.0  0.140387  0.027388\n",
       "25%     4.75000  5.0  0.284594  0.300610\n",
       "50%     6.50000  5.0  0.487997  0.419195\n",
       "75%     8.25000  5.0  0.703037  0.612018\n",
       "max    10.00000  5.0  0.968262  0.878117"
      ]
     },
     "execution_count": 10,
     "metadata": {},
     "output_type": "execute_result"
    }
   ],
   "source": [
    "df.describe()"
   ]
  },
  {
   "cell_type": "code",
   "execution_count": 11,
   "id": "ced4c5eb",
   "metadata": {},
   "outputs": [
    {
     "data": {
      "image/png": "[encoded data removed]",
      "text/plain": [
       "<Figure size 432x288 with 1 Axes>"
      ]
     },
     "metadata": {
      "needs_background": "light"
     },
     "output_type": "display_data"
    }
   ],
   "source": [
    "df[['E', 'F']].plot.bar()\n",
    "plt.grid()"
   ]
  },
  {
   "cell_type": "code",
   "execution_count": 12,
   "id": "c052a458",
   "metadata": {},
   "outputs": [
    {
     "data": {
      "image/png": "[encoded data removed]",
      "text/plain": [
       "<Figure size 432x288 with 1 Axes>"
      ]
     },
     "metadata": {
      "needs_background": "light"
     },
     "output_type": "display_data"
    }
   ],
   "source": [
    "df[['E', 'F']].plot.bar(stacked=True)\n",
    "plt.grid()"
   ]
  },
  {
   "cell_type": "code",
   "execution_count": 13,
   "id": "34df884d",
   "metadata": {},
   "outputs": [
    {
     "data": {
      "image/png": "[encoded data removed]",
      "text/plain": [
       "<Figure size 432x288 with 1 Axes>"
      ]
     },
     "metadata": {
      "needs_background": "light"
     },
     "output_type": "display_data"
    }
   ],
   "source": [
    "df[['E', 'F']].plot.area(stacked=True)\n",
    "plt.grid()"
   ]
  },
  {
   "cell_type": "code",
   "execution_count": 14,
   "id": "55027491",
   "metadata": {},
   "outputs": [
    {
     "data": {
      "image/png": "[encoded data removed]",
      "text/plain": [
       "<Figure size 432x288 with 2 Axes>"
      ]
     },
     "metadata": {
      "needs_background": "light"
     },
     "output_type": "display_data"
    }
   ],
   "source": [
    "df.loc[df['H'] == 'day', ['E', 'F']].hist()\n",
    "plt.show()"
   ]
  },
  {
   "cell_type": "code",
   "execution_count": 15,
   "id": "387ffbda",
   "metadata": {},
   "outputs": [
    {
     "data": {
      "text/plain": [
       "BAD    1\n",
       "Name: G, dtype: int64"
      ]
     },
     "execution_count": 15,
     "metadata": {},
     "output_type": "execute_result"
    }
   ],
   "source": [
    "df['G'].value_counts()"
   ]
  },
  {
   "cell_type": "code",
   "execution_count": 16,
   "id": "b1e5f227",
   "metadata": {},
   "outputs": [
    {
     "data": {
      "text/html": [
       "<div>\n",
       "<style scoped>\n",
       "    .dataframe tbody tr th:only-of-type {\n",
       "        vertical-align: middle;\n",
       "    }\n",
       "\n",
       "    .dataframe tbody tr th {\n",
       "        vertical-align: top;\n",
       "    }\n",
       "\n",
       "    .dataframe thead th {\n",
       "        text-align: right;\n",
       "    }\n",
       "</style>\n",
       "<table border=\"1\" class=\"dataframe\">\n",
       "  <thead>\n",
       "    <tr style=\"text-align: right;\">\n",
       "      <th></th>\n",
       "      <th>E</th>\n",
       "      <th>F</th>\n",
       "    </tr>\n",
       "    <tr>\n",
       "      <th>G</th>\n",
       "      <th></th>\n",
       "      <th></th>\n",
       "    </tr>\n",
       "  </thead>\n",
       "  <tbody>\n",
       "    <tr>\n",
       "      <th>BAD</th>\n",
       "      <td>1</td>\n",
       "      <td>0</td>\n",
       "    </tr>\n",
       "  </tbody>\n",
       "</table>\n",
       "</div>"
      ],
      "text/plain": [
       "     E  F\n",
       "G        \n",
       "BAD  1  0"
      ]
     },
     "execution_count": 16,
     "metadata": {},
     "output_type": "execute_result"
    }
   ],
   "source": [
    "df.groupby('G')[['E', 'F']].count()"
   ]
  },
  {
   "cell_type": "code",
   "execution_count": null,
   "id": "6b05cad9",
   "metadata": {},
   "outputs": [],
   "source": []
  },
  {
   "cell_type": "code",
   "execution_count": null,
   "id": "ad8d5cb8",
   "metadata": {},
   "outputs": [],
   "source": []
  },
  {
   "cell_type": "code",
   "execution_count": null,
   "id": "58fc02de",
   "metadata": {},
   "outputs": [],
   "source": []
  }
 ],
 "metadata": {
  "kernelspec": {
   "display_name": "Python [conda env:py38]",
   "language": "python",
   "name": "conda-env-py38-py"
  },
  "language_info": {
   "codemirror_mode": {
    "name": "ipython",
    "version": 3
   },
   "file_extension": ".py",
   "mimetype": "text/x-python",
   "name": "python",
   "nbconvert_exporter": "python",
   "pygments_lexer": "ipython3",
   "version": "3.8.3"
  }
 },
 "nbformat": 4,
 "nbformat_minor": 5
}
