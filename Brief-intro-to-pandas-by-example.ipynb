{
 "cells": [
  {
   "cell_type": "markdown",
   "metadata": {},
   "source": [
    "# Brief Intro to Pandas"
   ]
  },
  {
   "cell_type": "code",
   "execution_count": 1,
   "metadata": {},
   "outputs": [],
   "source": [
    "import numpy as np\n",
    "import pandas as pd\n",
    "import matplotlib.pyplot as plt\n",
    "\n",
    "%matplotlib inline"
   ]
  },
  {
   "cell_type": "code",
   "execution_count": 2,
   "metadata": {},
   "outputs": [
    {
     "data": {
      "text/plain": [
       "'3.6.8'"
      ]
     },
     "execution_count": 2,
     "metadata": {},
     "output_type": "execute_result"
    }
   ],
   "source": [
    "from platform import python_version\n",
    "python_version()"
   ]
  },
  {
   "cell_type": "markdown",
   "metadata": {},
   "source": [
    "There are basically three main types of data objects in Pandas\n",
    "1. Index\n",
    "2. Series\n",
    "3. Dataframe"
   ]
  },
  {
   "cell_type": "markdown",
   "metadata": {},
   "source": [
    "## Series"
   ]
  },
  {
   "cell_type": "code",
   "execution_count": 3,
   "metadata": {},
   "outputs": [],
   "source": [
    "# Prepare some random data using numpy\n",
    "data = np.random.randn(10)"
   ]
  },
  {
   "cell_type": "code",
   "execution_count": 4,
   "metadata": {},
   "outputs": [],
   "source": [
    "# Prepare a date range\n",
    "index = pd.date_range('2018-01-01', '2018-01-10')"
   ]
  },
  {
   "cell_type": "code",
   "execution_count": 5,
   "metadata": {},
   "outputs": [],
   "source": [
    "# Create a Series\n",
    "x = pd.Series(data, index=index, name='A')"
   ]
  },
  {
   "cell_type": "code",
   "execution_count": 6,
   "metadata": {},
   "outputs": [
    {
     "data": {
      "text/plain": [
       "2018-01-01   -1.055001\n",
       "2018-01-02    1.113949\n",
       "2018-01-03   -1.232003\n",
       "2018-01-04    0.238258\n",
       "2018-01-05    1.415033\n",
       "Freq: D, Name: A, dtype: float64"
      ]
     },
     "execution_count": 6,
     "metadata": {},
     "output_type": "execute_result"
    }
   ],
   "source": [
    "# Use the head method to see only the first 5 rows\n",
    "x.head()"
   ]
  },
  {
   "cell_type": "code",
   "execution_count": 7,
   "metadata": {},
   "outputs": [
    {
     "data": {
      "text/plain": [
       "2018-01-06   -0.073440\n",
       "2018-01-07    0.702295\n",
       "2018-01-08   -0.572126\n",
       "2018-01-09    0.655728\n",
       "2018-01-10   -0.542613\n",
       "Freq: D, Name: A, dtype: float64"
      ]
     },
     "execution_count": 7,
     "metadata": {},
     "output_type": "execute_result"
    }
   ],
   "source": [
    "# The tail method shows only last 5 rows\n",
    "x.tail()"
   ]
  },
  {
   "cell_type": "code",
   "execution_count": 8,
   "metadata": {},
   "outputs": [
    {
     "data": {
      "text/plain": [
       "dtype('float64')"
      ]
     },
     "execution_count": 8,
     "metadata": {},
     "output_type": "execute_result"
    }
   ],
   "source": [
    "# Show datatype usually inferred from data\n",
    "x.dtype"
   ]
  },
  {
   "cell_type": "code",
   "execution_count": 9,
   "metadata": {},
   "outputs": [
    {
     "data": {
      "text/plain": [
       "'A'"
      ]
     },
     "execution_count": 9,
     "metadata": {},
     "output_type": "execute_result"
    }
   ],
   "source": [
    "x.name"
   ]
  },
  {
   "cell_type": "code",
   "execution_count": 10,
   "metadata": {},
   "outputs": [
    {
     "data": {
      "text/plain": [
       "array([-1.05500115,  1.11394917, -1.23200331,  0.23825755,  1.41503329,\n",
       "       -0.07343993,  0.70229539, -0.57212584,  0.65572826, -0.54261343])"
      ]
     },
     "execution_count": 10,
     "metadata": {},
     "output_type": "execute_result"
    }
   ],
   "source": [
    "x.values"
   ]
  },
  {
   "cell_type": "code",
   "execution_count": 11,
   "metadata": {},
   "outputs": [
    {
     "data": {
      "text/plain": [
       "DatetimeIndex(['2018-01-01', '2018-01-02', '2018-01-03', '2018-01-04',\n",
       "               '2018-01-05', '2018-01-06', '2018-01-07', '2018-01-08',\n",
       "               '2018-01-09', '2018-01-10'],\n",
       "              dtype='datetime64[ns]', freq='D')"
      ]
     },
     "execution_count": 11,
     "metadata": {},
     "output_type": "execute_result"
    }
   ],
   "source": [
    "# The index here is a DatetimeIndex (special type of index for datetimes)\n",
    "x.index"
   ]
  },
  {
   "cell_type": "code",
   "execution_count": 12,
   "metadata": {},
   "outputs": [
    {
     "data": {
      "text/plain": [
       "0.06500799877543463"
      ]
     },
     "execution_count": 12,
     "metadata": {},
     "output_type": "execute_result"
    }
   ],
   "source": [
    "# You can do many different calculations on the values\n",
    "x.mean()"
   ]
  },
  {
   "cell_type": "code",
   "execution_count": 13,
   "metadata": {},
   "outputs": [
    {
     "data": {
      "text/plain": [
       "2018-01-01    1.113027\n",
       "2018-01-02    1.240883\n",
       "2018-01-03    1.517832\n",
       "2018-01-04    0.056767\n",
       "2018-01-05    2.002319\n",
       "Freq: D, Name: A, dtype: float64"
      ]
     },
     "execution_count": 13,
     "metadata": {},
     "output_type": "execute_result"
    }
   ],
   "source": [
    "# And other operations...\n",
    "(x**2).head()"
   ]
  },
  {
   "cell_type": "code",
   "execution_count": 14,
   "metadata": {},
   "outputs": [
    {
     "data": {
      "text/plain": [
       "2018-01-01   -1\n",
       "2018-01-02    1\n",
       "2018-01-03   -1\n",
       "2018-01-04    0\n",
       "2018-01-05    1\n",
       "2018-01-06    0\n",
       "2018-01-07    0\n",
       "2018-01-08    0\n",
       "2018-01-09    0\n",
       "2018-01-10    0\n",
       "Freq: D, Name: A, dtype: int64"
      ]
     },
     "execution_count": 14,
     "metadata": {},
     "output_type": "execute_result"
    }
   ],
   "source": [
    "# Convert to a different data type\n",
    "x.astype(int)"
   ]
  },
  {
   "cell_type": "code",
   "execution_count": 15,
   "metadata": {},
   "outputs": [
    {
     "data": {
      "text/plain": [
       "2018-01-05    1.415033\n",
       "2018-01-02    1.113949\n",
       "2018-01-07    0.702295\n",
       "2018-01-09    0.655728\n",
       "2018-01-04    0.238258\n",
       "Name: A, dtype: float64"
      ]
     },
     "execution_count": 15,
     "metadata": {},
     "output_type": "execute_result"
    }
   ],
   "source": [
    "x.sort_values(ascending=False).head()"
   ]
  },
  {
   "cell_type": "code",
   "execution_count": 16,
   "metadata": {},
   "outputs": [
    {
     "data": {
      "text/plain": [
       "Timestamp('2018-01-05 00:00:00', freq='D')"
      ]
     },
     "execution_count": 16,
     "metadata": {},
     "output_type": "execute_result"
    }
   ],
   "source": [
    "x.idxmax()"
   ]
  },
  {
   "cell_type": "code",
   "execution_count": 17,
   "metadata": {},
   "outputs": [
    {
     "data": {
      "image/png": "[encoded data removed]",
      "text/plain": [
       "<Figure size 432x288 with 1 Axes>"
      ]
     },
     "metadata": {},
     "output_type": "display_data"
    }
   ],
   "source": [
    "# Pandas provides an easy way to create plots with pyplot\n",
    "x.plot()\n",
    "plt.show()"
   ]
  },
  {
   "cell_type": "code",
   "execution_count": 18,
   "metadata": {},
   "outputs": [
    {
     "data": {
      "image/png": "[encoded data removed]",
      "text/plain": [
       "<Figure size 432x288 with 1 Axes>"
      ]
     },
     "metadata": {},
     "output_type": "display_data"
    }
   ],
   "source": [
    "x.hist()\n",
    "plt.show()"
   ]
  },
  {
   "cell_type": "code",
   "execution_count": 19,
   "metadata": {},
   "outputs": [],
   "source": [
    "del x"
   ]
  },
  {
   "cell_type": "markdown",
   "metadata": {},
   "source": [
    "## Dataframes"
   ]
  },
  {
   "cell_type": "code",
   "execution_count": 20,
   "metadata": {},
   "outputs": [],
   "source": [
    "# Prepare some random data\n",
    "data = {\n",
    "    'A': np.random.randn(10),\n",
    "    'B': np.random.randn(10),\n",
    "    'C': np.random.randn(10)\n",
    "}"
   ]
  },
  {
   "cell_type": "code",
   "execution_count": 21,
   "metadata": {},
   "outputs": [],
   "source": [
    "# Prepare a date range\n",
    "index = pd.date_range('2018-01-01', '2018-01-10')"
   ]
  },
  {
   "cell_type": "code",
   "execution_count": 22,
   "metadata": {},
   "outputs": [
    {
     "data": {
      "text/html": [
       "<div>\n",
       "<style scoped>\n",
       "    .dataframe tbody tr th:only-of-type {\n",
       "        vertical-align: middle;\n",
       "    }\n",
       "\n",
       "    .dataframe tbody tr th {\n",
       "        vertical-align: top;\n",
       "    }\n",
       "\n",
       "    .dataframe thead th {\n",
       "        text-align: right;\n",
       "    }\n",
       "</style>\n",
       "<table border=\"1\" class=\"dataframe\">\n",
       "  <thead>\n",
       "    <tr style=\"text-align: right;\">\n",
       "      <th></th>\n",
       "      <th>A</th>\n",
       "      <th>B</th>\n",
       "      <th>C</th>\n",
       "    </tr>\n",
       "  </thead>\n",
       "  <tbody>\n",
       "    <tr>\n",
       "      <th>2018-01-01</th>\n",
       "      <td>-0.990605</td>\n",
       "      <td>-0.240924</td>\n",
       "      <td>-0.974926</td>\n",
       "    </tr>\n",
       "    <tr>\n",
       "      <th>2018-01-02</th>\n",
       "      <td>0.663470</td>\n",
       "      <td>0.424833</td>\n",
       "      <td>0.073048</td>\n",
       "    </tr>\n",
       "    <tr>\n",
       "      <th>2018-01-03</th>\n",
       "      <td>-1.319911</td>\n",
       "      <td>-0.477794</td>\n",
       "      <td>-0.244228</td>\n",
       "    </tr>\n",
       "    <tr>\n",
       "      <th>2018-01-04</th>\n",
       "      <td>-0.111922</td>\n",
       "      <td>0.372629</td>\n",
       "      <td>-1.188499</td>\n",
       "    </tr>\n",
       "    <tr>\n",
       "      <th>2018-01-05</th>\n",
       "      <td>0.712887</td>\n",
       "      <td>0.463138</td>\n",
       "      <td>1.418469</td>\n",
       "    </tr>\n",
       "  </tbody>\n",
       "</table>\n",
       "</div>"
      ],
      "text/plain": [
       "                   A         B         C\n",
       "2018-01-01 -0.990605 -0.240924 -0.974926\n",
       "2018-01-02  0.663470  0.424833  0.073048\n",
       "2018-01-03 -1.319911 -0.477794 -0.244228\n",
       "2018-01-04 -0.111922  0.372629 -1.188499\n",
       "2018-01-05  0.712887  0.463138  1.418469"
      ]
     },
     "execution_count": 22,
     "metadata": {},
     "output_type": "execute_result"
    }
   ],
   "source": [
    "# Construct a dataframe (one method)\n",
    "df = pd.DataFrame(data, index=index)\n",
    "df.head()"
   ]
  },
  {
   "cell_type": "code",
   "execution_count": 23,
   "metadata": {},
   "outputs": [
    {
     "data": {
      "text/plain": [
       "Index(['A', 'B', 'C'], dtype='object')"
      ]
     },
     "execution_count": 23,
     "metadata": {},
     "output_type": "execute_result"
    }
   ],
   "source": [
    "# Column index\n",
    "df.columns"
   ]
  },
  {
   "cell_type": "code",
   "execution_count": 24,
   "metadata": {},
   "outputs": [
    {
     "data": {
      "text/plain": [
       "DatetimeIndex(['2018-01-01', '2018-01-02', '2018-01-03', '2018-01-04',\n",
       "               '2018-01-05', '2018-01-06', '2018-01-07', '2018-01-08',\n",
       "               '2018-01-09', '2018-01-10'],\n",
       "              dtype='datetime64[ns]', freq='D')"
      ]
     },
     "execution_count": 24,
     "metadata": {},
     "output_type": "execute_result"
    }
   ],
   "source": [
    "# Row index\n",
    "df.index"
   ]
  },
  {
   "cell_type": "code",
   "execution_count": 25,
   "metadata": {},
   "outputs": [
    {
     "data": {
      "text/plain": [
       "A    float64\n",
       "B    float64\n",
       "C    float64\n",
       "dtype: object"
      ]
     },
     "execution_count": 25,
     "metadata": {},
     "output_type": "execute_result"
    }
   ],
   "source": [
    "# Data types\n",
    "df.dtypes"
   ]
  },
  {
   "cell_type": "code",
   "execution_count": 26,
   "metadata": {},
   "outputs": [
    {
     "data": {
      "text/plain": [
       "array([[-0.99060477, -0.24092403, -0.97492639],\n",
       "       [ 0.66347004,  0.42483292,  0.07304827],\n",
       "       [-1.31991147, -0.47779395, -0.24422777],\n",
       "       [-0.11192156,  0.37262894, -1.18849901],\n",
       "       [ 0.71288742,  0.46313834,  1.41846921],\n",
       "       [-0.37120661, -0.39343094,  0.29191246],\n",
       "       [-0.05209442, -0.71301633,  1.21856748],\n",
       "       [-1.31796908,  0.49882261, -1.96457787],\n",
       "       [ 0.24623235,  0.72176298,  1.21273998],\n",
       "       [ 0.33864275,  0.05433997, -0.6915102 ]])"
      ]
     },
     "execution_count": 26,
     "metadata": {},
     "output_type": "execute_result"
    }
   ],
   "source": [
    "# Values (returns a numpy array)\n",
    "df.values"
   ]
  },
  {
   "cell_type": "code",
   "execution_count": 27,
   "metadata": {},
   "outputs": [
    {
     "data": {
      "text/plain": [
       "A   -2.202475\n",
       "B    0.710361\n",
       "C   -0.849004\n",
       "dtype: float64"
      ]
     },
     "execution_count": 27,
     "metadata": {},
     "output_type": "execute_result"
    }
   ],
   "source": [
    "# You can do operations on the whole dataframe\n",
    "df.sum()"
   ]
  },
  {
   "cell_type": "code",
   "execution_count": 28,
   "metadata": {},
   "outputs": [
    {
     "data": {
      "text/plain": [
       "A     5.737251\n",
       "B     2.256063\n",
       "C    11.818660\n",
       "dtype: float64"
      ]
     },
     "execution_count": 28,
     "metadata": {},
     "output_type": "execute_result"
    }
   ],
   "source": [
    "# Pandas methods are designed for 'chaining'\n",
    "df.pow(2).sum()"
   ]
  },
  {
   "cell_type": "code",
   "execution_count": 29,
   "metadata": {},
   "outputs": [
    {
     "data": {
      "text/plain": [
       "2018-01-01   -0.990605\n",
       "2018-01-02    0.663470\n",
       "2018-01-03   -1.319911\n",
       "2018-01-04   -0.111922\n",
       "2018-01-05    0.712887\n",
       "Freq: D, Name: A, dtype: float64"
      ]
     },
     "execution_count": 29,
     "metadata": {},
     "output_type": "execute_result"
    }
   ],
   "source": [
    "# Select one column (returns a series)\n",
    "df['A'].head()"
   ]
  },
  {
   "cell_type": "code",
   "execution_count": 30,
   "metadata": {},
   "outputs": [
    {
     "data": {
      "text/html": [
       "<div>\n",
       "<style scoped>\n",
       "    .dataframe tbody tr th:only-of-type {\n",
       "        vertical-align: middle;\n",
       "    }\n",
       "\n",
       "    .dataframe tbody tr th {\n",
       "        vertical-align: top;\n",
       "    }\n",
       "\n",
       "    .dataframe thead th {\n",
       "        text-align: right;\n",
       "    }\n",
       "</style>\n",
       "<table border=\"1\" class=\"dataframe\">\n",
       "  <thead>\n",
       "    <tr style=\"text-align: right;\">\n",
       "      <th></th>\n",
       "      <th>A</th>\n",
       "      <th>C</th>\n",
       "    </tr>\n",
       "  </thead>\n",
       "  <tbody>\n",
       "    <tr>\n",
       "      <th>2018-01-01</th>\n",
       "      <td>-0.990605</td>\n",
       "      <td>-0.974926</td>\n",
       "    </tr>\n",
       "    <tr>\n",
       "      <th>2018-01-02</th>\n",
       "      <td>0.663470</td>\n",
       "      <td>0.073048</td>\n",
       "    </tr>\n",
       "    <tr>\n",
       "      <th>2018-01-03</th>\n",
       "      <td>-1.319911</td>\n",
       "      <td>-0.244228</td>\n",
       "    </tr>\n",
       "    <tr>\n",
       "      <th>2018-01-04</th>\n",
       "      <td>-0.111922</td>\n",
       "      <td>-1.188499</td>\n",
       "    </tr>\n",
       "    <tr>\n",
       "      <th>2018-01-05</th>\n",
       "      <td>0.712887</td>\n",
       "      <td>1.418469</td>\n",
       "    </tr>\n",
       "  </tbody>\n",
       "</table>\n",
       "</div>"
      ],
      "text/plain": [
       "                   A         C\n",
       "2018-01-01 -0.990605 -0.974926\n",
       "2018-01-02  0.663470  0.073048\n",
       "2018-01-03 -1.319911 -0.244228\n",
       "2018-01-04 -0.111922 -1.188499\n",
       "2018-01-05  0.712887  1.418469"
      ]
     },
     "execution_count": 30,
     "metadata": {},
     "output_type": "execute_result"
    }
   ],
   "source": [
    "# Select multiple columns (returns a dataframe)\n",
    "df[['A', 'C']].head()"
   ]
  },
  {
   "cell_type": "code",
   "execution_count": 31,
   "metadata": {},
   "outputs": [
    {
     "data": {
      "text/plain": [
       "A   -1.319911\n",
       "B   -0.477794\n",
       "C   -0.244228\n",
       "Name: 2018-01-03 00:00:00, dtype: float64"
      ]
     },
     "execution_count": 31,
     "metadata": {},
     "output_type": "execute_result"
    }
   ],
   "source": [
    "# Select one row\n",
    "df.loc['2018-01-03']"
   ]
  },
  {
   "cell_type": "code",
   "execution_count": 32,
   "metadata": {},
   "outputs": [
    {
     "data": {
      "text/plain": [
       "-0.4777939524658272"
      ]
     },
     "execution_count": 32,
     "metadata": {},
     "output_type": "execute_result"
    }
   ],
   "source": [
    "# Select one row and column\n",
    "df.loc['2018-01-03', 'B']"
   ]
  },
  {
   "cell_type": "code",
   "execution_count": 33,
   "metadata": {},
   "outputs": [
    {
     "data": {
      "text/html": [
       "<div>\n",
       "<style scoped>\n",
       "    .dataframe tbody tr th:only-of-type {\n",
       "        vertical-align: middle;\n",
       "    }\n",
       "\n",
       "    .dataframe tbody tr th {\n",
       "        vertical-align: top;\n",
       "    }\n",
       "\n",
       "    .dataframe thead th {\n",
       "        text-align: right;\n",
       "    }\n",
       "</style>\n",
       "<table border=\"1\" class=\"dataframe\">\n",
       "  <thead>\n",
       "    <tr style=\"text-align: right;\">\n",
       "      <th></th>\n",
       "      <th>A</th>\n",
       "      <th>B</th>\n",
       "      <th>C</th>\n",
       "    </tr>\n",
       "  </thead>\n",
       "  <tbody>\n",
       "    <tr>\n",
       "      <th>2018-01-03</th>\n",
       "      <td>-1.319911</td>\n",
       "      <td>-0.477794</td>\n",
       "      <td>-0.244228</td>\n",
       "    </tr>\n",
       "    <tr>\n",
       "      <th>2018-01-04</th>\n",
       "      <td>-0.111922</td>\n",
       "      <td>0.372629</td>\n",
       "      <td>-1.188499</td>\n",
       "    </tr>\n",
       "  </tbody>\n",
       "</table>\n",
       "</div>"
      ],
      "text/plain": [
       "                   A         B         C\n",
       "2018-01-03 -1.319911 -0.477794 -0.244228\n",
       "2018-01-04 -0.111922  0.372629 -1.188499"
      ]
     },
     "execution_count": 33,
     "metadata": {},
     "output_type": "execute_result"
    }
   ],
   "source": [
    "# Slicing rows\n",
    "df.loc['2018-01-03':'2018-01-04']"
   ]
  },
  {
   "cell_type": "code",
   "execution_count": 34,
   "metadata": {},
   "outputs": [
    {
     "data": {
      "text/plain": [
       "<matplotlib.axes._subplots.AxesSubplot at 0x1117f99b0>"
      ]
     },
     "execution_count": 34,
     "metadata": {},
     "output_type": "execute_result"
    },
    {
     "data": {
      "image/png": "[encoded data removed]",
      "text/plain": [
       "<Figure size 432x288 with 1 Axes>"
      ]
     },
     "metadata": {},
     "output_type": "display_data"
    }
   ],
   "source": [
    "# Pandas provides an easy way to create plots with pyplot\n",
    "df.plot()"
   ]
  },
  {
   "cell_type": "code",
   "execution_count": 35,
   "metadata": {},
   "outputs": [
    {
     "data": {
      "text/html": [
       "<div>\n",
       "<style scoped>\n",
       "    .dataframe tbody tr th:only-of-type {\n",
       "        vertical-align: middle;\n",
       "    }\n",
       "\n",
       "    .dataframe tbody tr th {\n",
       "        vertical-align: top;\n",
       "    }\n",
       "\n",
       "    .dataframe thead th {\n",
       "        text-align: right;\n",
       "    }\n",
       "</style>\n",
       "<table border=\"1\" class=\"dataframe\">\n",
       "  <thead>\n",
       "    <tr style=\"text-align: right;\">\n",
       "      <th></th>\n",
       "      <th>A</th>\n",
       "      <th>B</th>\n",
       "      <th>C</th>\n",
       "      <th>D</th>\n",
       "    </tr>\n",
       "  </thead>\n",
       "  <tbody>\n",
       "    <tr>\n",
       "      <th>2018-01-01</th>\n",
       "      <td>-0.990605</td>\n",
       "      <td>-0.240924</td>\n",
       "      <td>-0.974926</td>\n",
       "      <td>0.942489</td>\n",
       "    </tr>\n",
       "    <tr>\n",
       "      <th>2018-01-02</th>\n",
       "      <td>0.663470</td>\n",
       "      <td>0.424833</td>\n",
       "      <td>0.073048</td>\n",
       "      <td>0.581711</td>\n",
       "    </tr>\n",
       "    <tr>\n",
       "      <th>2018-01-03</th>\n",
       "      <td>-1.319911</td>\n",
       "      <td>-0.477794</td>\n",
       "      <td>-0.244228</td>\n",
       "      <td>-0.620239</td>\n",
       "    </tr>\n",
       "    <tr>\n",
       "      <th>2018-01-04</th>\n",
       "      <td>-0.111922</td>\n",
       "      <td>0.372629</td>\n",
       "      <td>-1.188499</td>\n",
       "      <td>-2.243460</td>\n",
       "    </tr>\n",
       "    <tr>\n",
       "      <th>2018-01-05</th>\n",
       "      <td>0.712887</td>\n",
       "      <td>0.463138</td>\n",
       "      <td>1.418469</td>\n",
       "      <td>-1.899446</td>\n",
       "    </tr>\n",
       "  </tbody>\n",
       "</table>\n",
       "</div>"
      ],
      "text/plain": [
       "                   A         B         C         D\n",
       "2018-01-01 -0.990605 -0.240924 -0.974926  0.942489\n",
       "2018-01-02  0.663470  0.424833  0.073048  0.581711\n",
       "2018-01-03 -1.319911 -0.477794 -0.244228 -0.620239\n",
       "2018-01-04 -0.111922  0.372629 -1.188499 -2.243460\n",
       "2018-01-05  0.712887  0.463138  1.418469 -1.899446"
      ]
     },
     "execution_count": 35,
     "metadata": {},
     "output_type": "execute_result"
    }
   ],
   "source": [
    "# Add a new column\n",
    "df['D'] = np.random.randn(10)\n",
    "df.head()"
   ]
  },
  {
   "cell_type": "code",
   "execution_count": 36,
   "metadata": {},
   "outputs": [
    {
     "data": {
      "text/html": [
       "<div>\n",
       "<style scoped>\n",
       "    .dataframe tbody tr th:only-of-type {\n",
       "        vertical-align: middle;\n",
       "    }\n",
       "\n",
       "    .dataframe tbody tr th {\n",
       "        vertical-align: top;\n",
       "    }\n",
       "\n",
       "    .dataframe thead th {\n",
       "        text-align: right;\n",
       "    }\n",
       "</style>\n",
       "<table border=\"1\" class=\"dataframe\">\n",
       "  <thead>\n",
       "    <tr style=\"text-align: right;\">\n",
       "      <th></th>\n",
       "      <th>A</th>\n",
       "      <th>B</th>\n",
       "      <th>C</th>\n",
       "      <th>D</th>\n",
       "      <th>Sum</th>\n",
       "    </tr>\n",
       "  </thead>\n",
       "  <tbody>\n",
       "    <tr>\n",
       "      <th>2018-01-01</th>\n",
       "      <td>-0.990605</td>\n",
       "      <td>-0.240924</td>\n",
       "      <td>-0.974926</td>\n",
       "      <td>0.942489</td>\n",
       "      <td>-1.263966</td>\n",
       "    </tr>\n",
       "    <tr>\n",
       "      <th>2018-01-02</th>\n",
       "      <td>0.663470</td>\n",
       "      <td>0.424833</td>\n",
       "      <td>0.073048</td>\n",
       "      <td>0.581711</td>\n",
       "      <td>1.743062</td>\n",
       "    </tr>\n",
       "    <tr>\n",
       "      <th>2018-01-03</th>\n",
       "      <td>-1.319911</td>\n",
       "      <td>-0.477794</td>\n",
       "      <td>-0.244228</td>\n",
       "      <td>-0.620239</td>\n",
       "      <td>-2.662172</td>\n",
       "    </tr>\n",
       "    <tr>\n",
       "      <th>2018-01-04</th>\n",
       "      <td>-0.111922</td>\n",
       "      <td>0.372629</td>\n",
       "      <td>-1.188499</td>\n",
       "      <td>-2.243460</td>\n",
       "      <td>-3.171252</td>\n",
       "    </tr>\n",
       "    <tr>\n",
       "      <th>2018-01-05</th>\n",
       "      <td>0.712887</td>\n",
       "      <td>0.463138</td>\n",
       "      <td>1.418469</td>\n",
       "      <td>-1.899446</td>\n",
       "      <td>0.695049</td>\n",
       "    </tr>\n",
       "  </tbody>\n",
       "</table>\n",
       "</div>"
      ],
      "text/plain": [
       "                   A         B         C         D       Sum\n",
       "2018-01-01 -0.990605 -0.240924 -0.974926  0.942489 -1.263966\n",
       "2018-01-02  0.663470  0.424833  0.073048  0.581711  1.743062\n",
       "2018-01-03 -1.319911 -0.477794 -0.244228 -0.620239 -2.662172\n",
       "2018-01-04 -0.111922  0.372629 -1.188499 -2.243460 -3.171252\n",
       "2018-01-05  0.712887  0.463138  1.418469 -1.899446  0.695049"
      ]
     },
     "execution_count": 36,
     "metadata": {},
     "output_type": "execute_result"
    }
   ],
   "source": [
    "# Add a new column from a calculation of other columns\n",
    "df['Sum'] = df.sum(axis=1)\n",
    "df.head()"
   ]
  },
  {
   "cell_type": "code",
   "execution_count": 37,
   "metadata": {},
   "outputs": [
    {
     "data": {
      "text/html": [
       "<div>\n",
       "<style scoped>\n",
       "    .dataframe tbody tr th:only-of-type {\n",
       "        vertical-align: middle;\n",
       "    }\n",
       "\n",
       "    .dataframe tbody tr th {\n",
       "        vertical-align: top;\n",
       "    }\n",
       "\n",
       "    .dataframe thead th {\n",
       "        text-align: right;\n",
       "    }\n",
       "</style>\n",
       "<table border=\"1\" class=\"dataframe\">\n",
       "  <thead>\n",
       "    <tr style=\"text-align: right;\">\n",
       "      <th></th>\n",
       "      <th>A</th>\n",
       "      <th>B</th>\n",
       "      <th>C</th>\n",
       "      <th>D</th>\n",
       "      <th>Sum</th>\n",
       "      <th>SumCheck</th>\n",
       "    </tr>\n",
       "  </thead>\n",
       "  <tbody>\n",
       "    <tr>\n",
       "      <th>2018-01-01</th>\n",
       "      <td>-0.990605</td>\n",
       "      <td>-0.240924</td>\n",
       "      <td>-0.974926</td>\n",
       "      <td>0.942489</td>\n",
       "      <td>-1.263966</td>\n",
       "      <td>NaN</td>\n",
       "    </tr>\n",
       "    <tr>\n",
       "      <th>2018-01-02</th>\n",
       "      <td>0.663470</td>\n",
       "      <td>0.424833</td>\n",
       "      <td>0.073048</td>\n",
       "      <td>0.581711</td>\n",
       "      <td>1.743062</td>\n",
       "      <td>NaN</td>\n",
       "    </tr>\n",
       "    <tr>\n",
       "      <th>2018-01-03</th>\n",
       "      <td>-1.319911</td>\n",
       "      <td>-0.477794</td>\n",
       "      <td>-0.244228</td>\n",
       "      <td>-0.620239</td>\n",
       "      <td>-2.662172</td>\n",
       "      <td>NaN</td>\n",
       "    </tr>\n",
       "    <tr>\n",
       "      <th>2018-01-04</th>\n",
       "      <td>-0.111922</td>\n",
       "      <td>0.372629</td>\n",
       "      <td>-1.188499</td>\n",
       "      <td>-2.243460</td>\n",
       "      <td>-3.171252</td>\n",
       "      <td>NaN</td>\n",
       "    </tr>\n",
       "    <tr>\n",
       "      <th>2018-01-05</th>\n",
       "      <td>0.712887</td>\n",
       "      <td>0.463138</td>\n",
       "      <td>1.418469</td>\n",
       "      <td>-1.899446</td>\n",
       "      <td>0.695049</td>\n",
       "      <td>NaN</td>\n",
       "    </tr>\n",
       "  </tbody>\n",
       "</table>\n",
       "</div>"
      ],
      "text/plain": [
       "                   A         B         C         D       Sum  SumCheck\n",
       "2018-01-01 -0.990605 -0.240924 -0.974926  0.942489 -1.263966       NaN\n",
       "2018-01-02  0.663470  0.424833  0.073048  0.581711  1.743062       NaN\n",
       "2018-01-03 -1.319911 -0.477794 -0.244228 -0.620239 -2.662172       NaN\n",
       "2018-01-04 -0.111922  0.372629 -1.188499 -2.243460 -3.171252       NaN\n",
       "2018-01-05  0.712887  0.463138  1.418469 -1.899446  0.695049       NaN"
      ]
     },
     "execution_count": 37,
     "metadata": {},
     "output_type": "execute_result"
    }
   ],
   "source": [
    "# Create a new column with one value\n",
    "df['SumCheck'] = np.nan\n",
    "df.head()"
   ]
  },
  {
   "cell_type": "code",
   "execution_count": 38,
   "metadata": {},
   "outputs": [
    {
     "data": {
      "text/html": [
       "<div>\n",
       "<style scoped>\n",
       "    .dataframe tbody tr th:only-of-type {\n",
       "        vertical-align: middle;\n",
       "    }\n",
       "\n",
       "    .dataframe tbody tr th {\n",
       "        vertical-align: top;\n",
       "    }\n",
       "\n",
       "    .dataframe thead th {\n",
       "        text-align: right;\n",
       "    }\n",
       "</style>\n",
       "<table border=\"1\" class=\"dataframe\">\n",
       "  <thead>\n",
       "    <tr style=\"text-align: right;\">\n",
       "      <th></th>\n",
       "      <th>A</th>\n",
       "      <th>B</th>\n",
       "      <th>C</th>\n",
       "      <th>D</th>\n",
       "      <th>Sum</th>\n",
       "      <th>SumCheck</th>\n",
       "    </tr>\n",
       "  </thead>\n",
       "  <tbody>\n",
       "    <tr>\n",
       "      <th>2018-01-01</th>\n",
       "      <td>-0.990605</td>\n",
       "      <td>-0.240924</td>\n",
       "      <td>-0.974926</td>\n",
       "      <td>0.942489</td>\n",
       "      <td>-1.263966</td>\n",
       "      <td>Neg</td>\n",
       "    </tr>\n",
       "    <tr>\n",
       "      <th>2018-01-02</th>\n",
       "      <td>0.663470</td>\n",
       "      <td>0.424833</td>\n",
       "      <td>0.073048</td>\n",
       "      <td>0.581711</td>\n",
       "      <td>1.743062</td>\n",
       "      <td>Pos</td>\n",
       "    </tr>\n",
       "    <tr>\n",
       "      <th>2018-01-03</th>\n",
       "      <td>-1.319911</td>\n",
       "      <td>-0.477794</td>\n",
       "      <td>-0.244228</td>\n",
       "      <td>-0.620239</td>\n",
       "      <td>-2.662172</td>\n",
       "      <td>Neg</td>\n",
       "    </tr>\n",
       "    <tr>\n",
       "      <th>2018-01-04</th>\n",
       "      <td>-0.111922</td>\n",
       "      <td>0.372629</td>\n",
       "      <td>-1.188499</td>\n",
       "      <td>-2.243460</td>\n",
       "      <td>-3.171252</td>\n",
       "      <td>Neg</td>\n",
       "    </tr>\n",
       "    <tr>\n",
       "      <th>2018-01-05</th>\n",
       "      <td>0.712887</td>\n",
       "      <td>0.463138</td>\n",
       "      <td>1.418469</td>\n",
       "      <td>-1.899446</td>\n",
       "      <td>0.695049</td>\n",
       "      <td>Pos</td>\n",
       "    </tr>\n",
       "  </tbody>\n",
       "</table>\n",
       "</div>"
      ],
      "text/plain": [
       "                   A         B         C         D       Sum SumCheck\n",
       "2018-01-01 -0.990605 -0.240924 -0.974926  0.942489 -1.263966      Neg\n",
       "2018-01-02  0.663470  0.424833  0.073048  0.581711  1.743062      Pos\n",
       "2018-01-03 -1.319911 -0.477794 -0.244228 -0.620239 -2.662172      Neg\n",
       "2018-01-04 -0.111922  0.372629 -1.188499 -2.243460 -3.171252      Neg\n",
       "2018-01-05  0.712887  0.463138  1.418469 -1.899446  0.695049      Pos"
      ]
     },
     "execution_count": 38,
     "metadata": {},
     "output_type": "execute_result"
    }
   ],
   "source": [
    "# Assigning values to selected locations using .loc\n",
    "df.loc[df['Sum'] < 0, 'SumCheck'] = \"Neg\"\n",
    "df.loc[df['Sum'] == 0, 'SumCheck'] = \"Zero\"\n",
    "df.loc[df['Sum'] > 0, 'SumCheck'] = \"Pos\"\n",
    "df.head()"
   ]
  },
  {
   "cell_type": "code",
   "execution_count": 39,
   "metadata": {},
   "outputs": [
    {
     "data": {
      "text/html": [
       "<div>\n",
       "<style scoped>\n",
       "    .dataframe tbody tr th:only-of-type {\n",
       "        vertical-align: middle;\n",
       "    }\n",
       "\n",
       "    .dataframe tbody tr th {\n",
       "        vertical-align: top;\n",
       "    }\n",
       "\n",
       "    .dataframe thead th {\n",
       "        text-align: right;\n",
       "    }\n",
       "</style>\n",
       "<table border=\"1\" class=\"dataframe\">\n",
       "  <thead>\n",
       "    <tr style=\"text-align: right;\">\n",
       "      <th></th>\n",
       "      <th>A</th>\n",
       "      <th>B</th>\n",
       "      <th>C</th>\n",
       "      <th>D</th>\n",
       "      <th>Sum</th>\n",
       "      <th>SumCheck</th>\n",
       "    </tr>\n",
       "  </thead>\n",
       "  <tbody>\n",
       "    <tr>\n",
       "      <th>2018-01-02</th>\n",
       "      <td>0.663470</td>\n",
       "      <td>0.424833</td>\n",
       "      <td>0.073048</td>\n",
       "      <td>0.581711</td>\n",
       "      <td>1.743062</td>\n",
       "      <td>Pos</td>\n",
       "    </tr>\n",
       "    <tr>\n",
       "      <th>2018-01-05</th>\n",
       "      <td>0.712887</td>\n",
       "      <td>0.463138</td>\n",
       "      <td>1.418469</td>\n",
       "      <td>-1.899446</td>\n",
       "      <td>0.695049</td>\n",
       "      <td>Pos</td>\n",
       "    </tr>\n",
       "    <tr>\n",
       "      <th>2018-01-09</th>\n",
       "      <td>0.246232</td>\n",
       "      <td>0.721763</td>\n",
       "      <td>1.212740</td>\n",
       "      <td>-1.560021</td>\n",
       "      <td>0.620714</td>\n",
       "      <td>Pos</td>\n",
       "    </tr>\n",
       "    <tr>\n",
       "      <th>2018-01-10</th>\n",
       "      <td>0.338643</td>\n",
       "      <td>0.054340</td>\n",
       "      <td>-0.691510</td>\n",
       "      <td>0.511275</td>\n",
       "      <td>0.212747</td>\n",
       "      <td>Pos</td>\n",
       "    </tr>\n",
       "    <tr>\n",
       "      <th>2018-01-06</th>\n",
       "      <td>-0.371207</td>\n",
       "      <td>-0.393431</td>\n",
       "      <td>0.291912</td>\n",
       "      <td>0.285683</td>\n",
       "      <td>-0.187042</td>\n",
       "      <td>Neg</td>\n",
       "    </tr>\n",
       "  </tbody>\n",
       "</table>\n",
       "</div>"
      ],
      "text/plain": [
       "                   A         B         C         D       Sum SumCheck\n",
       "2018-01-02  0.663470  0.424833  0.073048  0.581711  1.743062      Pos\n",
       "2018-01-05  0.712887  0.463138  1.418469 -1.899446  0.695049      Pos\n",
       "2018-01-09  0.246232  0.721763  1.212740 -1.560021  0.620714      Pos\n",
       "2018-01-10  0.338643  0.054340 -0.691510  0.511275  0.212747      Pos\n",
       "2018-01-06 -0.371207 -0.393431  0.291912  0.285683 -0.187042      Neg"
      ]
     },
     "execution_count": 39,
     "metadata": {},
     "output_type": "execute_result"
    }
   ],
   "source": [
    "df.sort_values(by='Sum', ascending=False).head()"
   ]
  },
  {
   "cell_type": "code",
   "execution_count": 40,
   "metadata": {},
   "outputs": [
    {
     "data": {
      "text/html": [
       "<div>\n",
       "<style scoped>\n",
       "    .dataframe tbody tr th:only-of-type {\n",
       "        vertical-align: middle;\n",
       "    }\n",
       "\n",
       "    .dataframe tbody tr th {\n",
       "        vertical-align: top;\n",
       "    }\n",
       "\n",
       "    .dataframe thead th {\n",
       "        text-align: right;\n",
       "    }\n",
       "</style>\n",
       "<table border=\"1\" class=\"dataframe\">\n",
       "  <thead>\n",
       "    <tr style=\"text-align: right;\">\n",
       "      <th></th>\n",
       "      <th>A</th>\n",
       "      <th>B</th>\n",
       "      <th>C</th>\n",
       "      <th>D</th>\n",
       "      <th>Sum</th>\n",
       "    </tr>\n",
       "    <tr>\n",
       "      <th>SumCheck</th>\n",
       "      <th></th>\n",
       "      <th></th>\n",
       "      <th></th>\n",
       "      <th></th>\n",
       "      <th></th>\n",
       "    </tr>\n",
       "  </thead>\n",
       "  <tbody>\n",
       "    <tr>\n",
       "      <th>Neg</th>\n",
       "      <td>-0.693951</td>\n",
       "      <td>-0.158952</td>\n",
       "      <td>-0.476959</td>\n",
       "      <td>-0.706371</td>\n",
       "      <td>-2.036233</td>\n",
       "    </tr>\n",
       "    <tr>\n",
       "      <th>Pos</th>\n",
       "      <td>0.490308</td>\n",
       "      <td>0.416019</td>\n",
       "      <td>0.503187</td>\n",
       "      <td>-0.591620</td>\n",
       "      <td>0.817893</td>\n",
       "    </tr>\n",
       "  </tbody>\n",
       "</table>\n",
       "</div>"
      ],
      "text/plain": [
       "                 A         B         C         D       Sum\n",
       "SumCheck                                                  \n",
       "Neg      -0.693951 -0.158952 -0.476959 -0.706371 -2.036233\n",
       "Pos       0.490308  0.416019  0.503187 -0.591620  0.817893"
      ]
     },
     "execution_count": 40,
     "metadata": {},
     "output_type": "execute_result"
    }
   ],
   "source": [
    "# Many powerful methods like groupby\n",
    "df.groupby('SumCheck').mean()"
   ]
  },
  {
   "cell_type": "code",
   "execution_count": 41,
   "metadata": {},
   "outputs": [
    {
     "name": "stderr",
     "output_type": "stream",
     "text": [
      "/Users/billtubbs/anaconda/envs/py36/lib/python3.6/site-packages/ipykernel_launcher.py:4: RuntimeWarning: invalid value encountered in sqrt\n",
      "  after removing the cwd from sys.path.\n"
     ]
    }
   ],
   "source": [
    "# Support for missing (NaN) values\n",
    "\n",
    "# Note the warnings when we do this:\n",
    "df2 = np.sqrt(df[['A', 'B', 'C', 'D']])"
   ]
  },
  {
   "cell_type": "code",
   "execution_count": 42,
   "metadata": {},
   "outputs": [
    {
     "data": {
      "text/html": [
       "<div>\n",
       "<style scoped>\n",
       "    .dataframe tbody tr th:only-of-type {\n",
       "        vertical-align: middle;\n",
       "    }\n",
       "\n",
       "    .dataframe tbody tr th {\n",
       "        vertical-align: top;\n",
       "    }\n",
       "\n",
       "    .dataframe thead th {\n",
       "        text-align: right;\n",
       "    }\n",
       "</style>\n",
       "<table border=\"1\" class=\"dataframe\">\n",
       "  <thead>\n",
       "    <tr style=\"text-align: right;\">\n",
       "      <th></th>\n",
       "      <th>A</th>\n",
       "      <th>B</th>\n",
       "      <th>C</th>\n",
       "      <th>D</th>\n",
       "    </tr>\n",
       "  </thead>\n",
       "  <tbody>\n",
       "    <tr>\n",
       "      <th>2018-01-01</th>\n",
       "      <td>NaN</td>\n",
       "      <td>NaN</td>\n",
       "      <td>NaN</td>\n",
       "      <td>0.970819</td>\n",
       "    </tr>\n",
       "    <tr>\n",
       "      <th>2018-01-02</th>\n",
       "      <td>0.814537</td>\n",
       "      <td>0.651792</td>\n",
       "      <td>0.270274</td>\n",
       "      <td>0.762700</td>\n",
       "    </tr>\n",
       "    <tr>\n",
       "      <th>2018-01-03</th>\n",
       "      <td>NaN</td>\n",
       "      <td>NaN</td>\n",
       "      <td>NaN</td>\n",
       "      <td>NaN</td>\n",
       "    </tr>\n",
       "    <tr>\n",
       "      <th>2018-01-04</th>\n",
       "      <td>NaN</td>\n",
       "      <td>0.610433</td>\n",
       "      <td>NaN</td>\n",
       "      <td>NaN</td>\n",
       "    </tr>\n",
       "    <tr>\n",
       "      <th>2018-01-05</th>\n",
       "      <td>0.844327</td>\n",
       "      <td>0.680543</td>\n",
       "      <td>1.190995</td>\n",
       "      <td>NaN</td>\n",
       "    </tr>\n",
       "  </tbody>\n",
       "</table>\n",
       "</div>"
      ],
      "text/plain": [
       "                   A         B         C         D\n",
       "2018-01-01       NaN       NaN       NaN  0.970819\n",
       "2018-01-02  0.814537  0.651792  0.270274  0.762700\n",
       "2018-01-03       NaN       NaN       NaN       NaN\n",
       "2018-01-04       NaN  0.610433       NaN       NaN\n",
       "2018-01-05  0.844327  0.680543  1.190995       NaN"
      ]
     },
     "execution_count": 42,
     "metadata": {},
     "output_type": "execute_result"
    }
   ],
   "source": [
    "# But we still get a dataframe of results\n",
    "df2.head()"
   ]
  },
  {
   "cell_type": "code",
   "execution_count": 43,
   "metadata": {},
   "outputs": [
    {
     "data": {
      "text/plain": [
       "A    float64\n",
       "B    float64\n",
       "C    float64\n",
       "D    float64\n",
       "dtype: object"
      ]
     },
     "execution_count": 43,
     "metadata": {},
     "output_type": "execute_result"
    }
   ],
   "source": [
    "df2.dtypes"
   ]
  },
  {
   "cell_type": "code",
   "execution_count": 44,
   "metadata": {},
   "outputs": [
    {
     "data": {
      "text/html": [
       "<div>\n",
       "<style scoped>\n",
       "    .dataframe tbody tr th:only-of-type {\n",
       "        vertical-align: middle;\n",
       "    }\n",
       "\n",
       "    .dataframe tbody tr th {\n",
       "        vertical-align: top;\n",
       "    }\n",
       "\n",
       "    .dataframe thead th {\n",
       "        text-align: right;\n",
       "    }\n",
       "</style>\n",
       "<table border=\"1\" class=\"dataframe\">\n",
       "  <thead>\n",
       "    <tr style=\"text-align: right;\">\n",
       "      <th></th>\n",
       "      <th>A</th>\n",
       "      <th>B</th>\n",
       "      <th>C</th>\n",
       "      <th>D</th>\n",
       "    </tr>\n",
       "  </thead>\n",
       "  <tbody>\n",
       "    <tr>\n",
       "      <th>2018-01-01</th>\n",
       "      <td>True</td>\n",
       "      <td>True</td>\n",
       "      <td>True</td>\n",
       "      <td>False</td>\n",
       "    </tr>\n",
       "    <tr>\n",
       "      <th>2018-01-02</th>\n",
       "      <td>False</td>\n",
       "      <td>False</td>\n",
       "      <td>False</td>\n",
       "      <td>False</td>\n",
       "    </tr>\n",
       "    <tr>\n",
       "      <th>2018-01-03</th>\n",
       "      <td>True</td>\n",
       "      <td>True</td>\n",
       "      <td>True</td>\n",
       "      <td>True</td>\n",
       "    </tr>\n",
       "    <tr>\n",
       "      <th>2018-01-04</th>\n",
       "      <td>True</td>\n",
       "      <td>False</td>\n",
       "      <td>True</td>\n",
       "      <td>True</td>\n",
       "    </tr>\n",
       "    <tr>\n",
       "      <th>2018-01-05</th>\n",
       "      <td>False</td>\n",
       "      <td>False</td>\n",
       "      <td>False</td>\n",
       "      <td>True</td>\n",
       "    </tr>\n",
       "  </tbody>\n",
       "</table>\n",
       "</div>"
      ],
      "text/plain": [
       "                A      B      C      D\n",
       "2018-01-01   True   True   True  False\n",
       "2018-01-02  False  False  False  False\n",
       "2018-01-03   True   True   True   True\n",
       "2018-01-04   True  False   True   True\n",
       "2018-01-05  False  False  False   True"
      ]
     },
     "execution_count": 44,
     "metadata": {},
     "output_type": "execute_result"
    }
   ],
   "source": [
    "# Find missing values\n",
    "df2.isna().head()"
   ]
  },
  {
   "cell_type": "code",
   "execution_count": 45,
   "metadata": {},
   "outputs": [
    {
     "data": {
      "text/plain": [
       "A    6\n",
       "B    4\n",
       "C    5\n",
       "D    6\n",
       "dtype: int64"
      ]
     },
     "execution_count": 45,
     "metadata": {},
     "output_type": "execute_result"
    }
   ],
   "source": [
    "df2.isna().sum()"
   ]
  },
  {
   "cell_type": "code",
   "execution_count": 46,
   "metadata": {},
   "outputs": [
    {
     "data": {
      "text/html": [
       "<div>\n",
       "<style scoped>\n",
       "    .dataframe tbody tr th:only-of-type {\n",
       "        vertical-align: middle;\n",
       "    }\n",
       "\n",
       "    .dataframe tbody tr th {\n",
       "        vertical-align: top;\n",
       "    }\n",
       "\n",
       "    .dataframe thead th {\n",
       "        text-align: right;\n",
       "    }\n",
       "</style>\n",
       "<table border=\"1\" class=\"dataframe\">\n",
       "  <thead>\n",
       "    <tr style=\"text-align: right;\">\n",
       "      <th></th>\n",
       "      <th>A</th>\n",
       "      <th>B</th>\n",
       "      <th>C</th>\n",
       "      <th>D</th>\n",
       "    </tr>\n",
       "  </thead>\n",
       "  <tbody>\n",
       "    <tr>\n",
       "      <th>2018-01-02</th>\n",
       "      <td>0.814537</td>\n",
       "      <td>0.651792</td>\n",
       "      <td>0.270274</td>\n",
       "      <td>0.7627</td>\n",
       "    </tr>\n",
       "  </tbody>\n",
       "</table>\n",
       "</div>"
      ],
      "text/plain": [
       "                   A         B         C       D\n",
       "2018-01-02  0.814537  0.651792  0.270274  0.7627"
      ]
     },
     "execution_count": 46,
     "metadata": {},
     "output_type": "execute_result"
    }
   ],
   "source": [
    "# Drop all rows with any NaN values\n",
    "df2.dropna()"
   ]
  },
  {
   "cell_type": "code",
   "execution_count": 47,
   "metadata": {},
   "outputs": [
    {
     "data": {
      "text/html": [
       "<div>\n",
       "<style scoped>\n",
       "    .dataframe tbody tr th:only-of-type {\n",
       "        vertical-align: middle;\n",
       "    }\n",
       "\n",
       "    .dataframe tbody tr th {\n",
       "        vertical-align: top;\n",
       "    }\n",
       "\n",
       "    .dataframe thead th {\n",
       "        text-align: right;\n",
       "    }\n",
       "</style>\n",
       "<table border=\"1\" class=\"dataframe\">\n",
       "  <thead>\n",
       "    <tr style=\"text-align: right;\">\n",
       "      <th></th>\n",
       "      <th>A</th>\n",
       "      <th>B</th>\n",
       "      <th>C</th>\n",
       "      <th>D</th>\n",
       "    </tr>\n",
       "  </thead>\n",
       "  <tbody>\n",
       "    <tr>\n",
       "      <th>2018-01-01</th>\n",
       "      <td>0.000000</td>\n",
       "      <td>0.000000</td>\n",
       "      <td>0.000000</td>\n",
       "      <td>0.970819</td>\n",
       "    </tr>\n",
       "    <tr>\n",
       "      <th>2018-01-02</th>\n",
       "      <td>0.814537</td>\n",
       "      <td>0.651792</td>\n",
       "      <td>0.270274</td>\n",
       "      <td>0.762700</td>\n",
       "    </tr>\n",
       "    <tr>\n",
       "      <th>2018-01-03</th>\n",
       "      <td>0.000000</td>\n",
       "      <td>0.000000</td>\n",
       "      <td>0.000000</td>\n",
       "      <td>0.000000</td>\n",
       "    </tr>\n",
       "    <tr>\n",
       "      <th>2018-01-04</th>\n",
       "      <td>0.000000</td>\n",
       "      <td>0.610433</td>\n",
       "      <td>0.000000</td>\n",
       "      <td>0.000000</td>\n",
       "    </tr>\n",
       "    <tr>\n",
       "      <th>2018-01-05</th>\n",
       "      <td>0.844327</td>\n",
       "      <td>0.680543</td>\n",
       "      <td>1.190995</td>\n",
       "      <td>0.000000</td>\n",
       "    </tr>\n",
       "  </tbody>\n",
       "</table>\n",
       "</div>"
      ],
      "text/plain": [
       "                   A         B         C         D\n",
       "2018-01-01  0.000000  0.000000  0.000000  0.970819\n",
       "2018-01-02  0.814537  0.651792  0.270274  0.762700\n",
       "2018-01-03  0.000000  0.000000  0.000000  0.000000\n",
       "2018-01-04  0.000000  0.610433  0.000000  0.000000\n",
       "2018-01-05  0.844327  0.680543  1.190995  0.000000"
      ]
     },
     "execution_count": 47,
     "metadata": {},
     "output_type": "execute_result"
    }
   ],
   "source": [
    "# Fill NaN values\n",
    "df2.fillna(0.0).head()"
   ]
  },
  {
   "cell_type": "markdown",
   "metadata": {},
   "source": [
    "## More advanced topics (Not essential to know)"
   ]
  },
  {
   "cell_type": "markdown",
   "metadata": {},
   "source": [
    "### Views vs. copies"
   ]
  },
  {
   "cell_type": "code",
   "execution_count": 48,
   "metadata": {},
   "outputs": [
    {
     "data": {
      "text/html": [
       "<div>\n",
       "<style scoped>\n",
       "    .dataframe tbody tr th:only-of-type {\n",
       "        vertical-align: middle;\n",
       "    }\n",
       "\n",
       "    .dataframe tbody tr th {\n",
       "        vertical-align: top;\n",
       "    }\n",
       "\n",
       "    .dataframe thead th {\n",
       "        text-align: right;\n",
       "    }\n",
       "</style>\n",
       "<table border=\"1\" class=\"dataframe\">\n",
       "  <thead>\n",
       "    <tr style=\"text-align: right;\">\n",
       "      <th></th>\n",
       "      <th>A</th>\n",
       "      <th>B</th>\n",
       "      <th>C</th>\n",
       "      <th>D</th>\n",
       "    </tr>\n",
       "  </thead>\n",
       "  <tbody>\n",
       "    <tr>\n",
       "      <th>2018-01-01</th>\n",
       "      <td>-0.990605</td>\n",
       "      <td>-0.240924</td>\n",
       "      <td>-0.974926</td>\n",
       "      <td>0.942489</td>\n",
       "    </tr>\n",
       "    <tr>\n",
       "      <th>2018-01-02</th>\n",
       "      <td>0.663470</td>\n",
       "      <td>0.424833</td>\n",
       "      <td>0.073048</td>\n",
       "      <td>0.581711</td>\n",
       "    </tr>\n",
       "    <tr>\n",
       "      <th>2018-01-03</th>\n",
       "      <td>-1.319911</td>\n",
       "      <td>-0.477794</td>\n",
       "      <td>-0.244228</td>\n",
       "      <td>-0.620239</td>\n",
       "    </tr>\n",
       "    <tr>\n",
       "      <th>2018-01-04</th>\n",
       "      <td>-0.111922</td>\n",
       "      <td>0.372629</td>\n",
       "      <td>-1.188499</td>\n",
       "      <td>-2.243460</td>\n",
       "    </tr>\n",
       "    <tr>\n",
       "      <th>2018-01-05</th>\n",
       "      <td>0.712887</td>\n",
       "      <td>0.463138</td>\n",
       "      <td>1.418469</td>\n",
       "      <td>-1.899446</td>\n",
       "    </tr>\n",
       "  </tbody>\n",
       "</table>\n",
       "</div>"
      ],
      "text/plain": [
       "                   A         B         C         D\n",
       "2018-01-01 -0.990605 -0.240924 -0.974926  0.942489\n",
       "2018-01-02  0.663470  0.424833  0.073048  0.581711\n",
       "2018-01-03 -1.319911 -0.477794 -0.244228 -0.620239\n",
       "2018-01-04 -0.111922  0.372629 -1.188499 -2.243460\n",
       "2018-01-05  0.712887  0.463138  1.418469 -1.899446"
      ]
     },
     "execution_count": 48,
     "metadata": {},
     "output_type": "execute_result"
    }
   ],
   "source": [
    "df2 = df[['A', 'B', 'C', 'D']]\n",
    "df2.head()"
   ]
  },
  {
   "cell_type": "code",
   "execution_count": 49,
   "metadata": {},
   "outputs": [
    {
     "name": "stderr",
     "output_type": "stream",
     "text": [
      "/Users/billtubbs/anaconda/envs/py36/lib/python3.6/site-packages/pandas/core/indexing.py:189: SettingWithCopyWarning: \n",
      "A value is trying to be set on a copy of a slice from a DataFrame\n",
      "\n",
      "See the caveats in the documentation: http://pandas.pydata.org/pandas-docs/stable/indexing.html#indexing-view-versus-copy\n",
      "  self._setitem_with_indexer(indexer, value)\n",
      "/Users/billtubbs/anaconda/envs/py36/lib/python3.6/site-packages/ipykernel_launcher.py:2: SettingWithCopyWarning: \n",
      "A value is trying to be set on a copy of a slice from a DataFrame\n",
      "\n",
      "See the caveats in the documentation: http://pandas.pydata.org/pandas-docs/stable/indexing.html#indexing-view-versus-copy\n",
      "  \n"
     ]
    }
   ],
   "source": [
    "# See the warning when you try to change a value in x\n",
    "df2.loc['2018-01-01', 'A'] = 0.0"
   ]
  },
  {
   "cell_type": "code",
   "execution_count": 50,
   "metadata": {},
   "outputs": [
    {
     "data": {
      "text/html": [
       "<div>\n",
       "<style scoped>\n",
       "    .dataframe tbody tr th:only-of-type {\n",
       "        vertical-align: middle;\n",
       "    }\n",
       "\n",
       "    .dataframe tbody tr th {\n",
       "        vertical-align: top;\n",
       "    }\n",
       "\n",
       "    .dataframe thead th {\n",
       "        text-align: right;\n",
       "    }\n",
       "</style>\n",
       "<table border=\"1\" class=\"dataframe\">\n",
       "  <thead>\n",
       "    <tr style=\"text-align: right;\">\n",
       "      <th></th>\n",
       "      <th>A</th>\n",
       "      <th>B</th>\n",
       "      <th>C</th>\n",
       "      <th>D</th>\n",
       "    </tr>\n",
       "  </thead>\n",
       "  <tbody>\n",
       "    <tr>\n",
       "      <th>2018-01-01</th>\n",
       "      <td>0.000000</td>\n",
       "      <td>0.000000</td>\n",
       "      <td>0.000000</td>\n",
       "      <td>0.000000</td>\n",
       "    </tr>\n",
       "    <tr>\n",
       "      <th>2018-01-02</th>\n",
       "      <td>0.663470</td>\n",
       "      <td>0.424833</td>\n",
       "      <td>0.073048</td>\n",
       "      <td>0.581711</td>\n",
       "    </tr>\n",
       "    <tr>\n",
       "      <th>2018-01-03</th>\n",
       "      <td>-1.319911</td>\n",
       "      <td>-0.477794</td>\n",
       "      <td>-0.244228</td>\n",
       "      <td>-0.620239</td>\n",
       "    </tr>\n",
       "    <tr>\n",
       "      <th>2018-01-04</th>\n",
       "      <td>-0.111922</td>\n",
       "      <td>0.372629</td>\n",
       "      <td>-1.188499</td>\n",
       "      <td>-2.243460</td>\n",
       "    </tr>\n",
       "    <tr>\n",
       "      <th>2018-01-05</th>\n",
       "      <td>0.712887</td>\n",
       "      <td>0.463138</td>\n",
       "      <td>1.418469</td>\n",
       "      <td>-1.899446</td>\n",
       "    </tr>\n",
       "  </tbody>\n",
       "</table>\n",
       "</div>"
      ],
      "text/plain": [
       "                   A         B         C         D\n",
       "2018-01-01  0.000000  0.000000  0.000000  0.000000\n",
       "2018-01-02  0.663470  0.424833  0.073048  0.581711\n",
       "2018-01-03 -1.319911 -0.477794 -0.244228 -0.620239\n",
       "2018-01-04 -0.111922  0.372629 -1.188499 -2.243460\n",
       "2018-01-05  0.712887  0.463138  1.418469 -1.899446"
      ]
     },
     "execution_count": 50,
     "metadata": {},
     "output_type": "execute_result"
    }
   ],
   "source": [
    "# This is because x is a copy of some data from df\n",
    "# To avoid the warning, make it explicit that you are copying df\n",
    "df2 = df[['A', 'B', 'C', 'D']].copy()\n",
    "df2.loc['2018-01-01', :] = 0.0\n",
    "df2.head()"
   ]
  },
  {
   "cell_type": "code",
   "execution_count": 51,
   "metadata": {},
   "outputs": [
    {
     "data": {
      "text/html": [
       "<div>\n",
       "<style scoped>\n",
       "    .dataframe tbody tr th:only-of-type {\n",
       "        vertical-align: middle;\n",
       "    }\n",
       "\n",
       "    .dataframe tbody tr th {\n",
       "        vertical-align: top;\n",
       "    }\n",
       "\n",
       "    .dataframe thead th {\n",
       "        text-align: right;\n",
       "    }\n",
       "</style>\n",
       "<table border=\"1\" class=\"dataframe\">\n",
       "  <thead>\n",
       "    <tr style=\"text-align: right;\">\n",
       "      <th></th>\n",
       "      <th>A</th>\n",
       "      <th>B</th>\n",
       "      <th>C</th>\n",
       "      <th>D</th>\n",
       "      <th>Sum</th>\n",
       "      <th>SumCheck</th>\n",
       "    </tr>\n",
       "  </thead>\n",
       "  <tbody>\n",
       "    <tr>\n",
       "      <th>2018-01-01</th>\n",
       "      <td>-0.990605</td>\n",
       "      <td>-0.240924</td>\n",
       "      <td>-0.974926</td>\n",
       "      <td>0.942489</td>\n",
       "      <td>-1.263966</td>\n",
       "      <td>Neg</td>\n",
       "    </tr>\n",
       "    <tr>\n",
       "      <th>2018-01-02</th>\n",
       "      <td>0.663470</td>\n",
       "      <td>0.424833</td>\n",
       "      <td>0.073048</td>\n",
       "      <td>0.581711</td>\n",
       "      <td>1.743062</td>\n",
       "      <td>Pos</td>\n",
       "    </tr>\n",
       "    <tr>\n",
       "      <th>2018-01-03</th>\n",
       "      <td>-1.319911</td>\n",
       "      <td>-0.477794</td>\n",
       "      <td>-0.244228</td>\n",
       "      <td>-0.620239</td>\n",
       "      <td>-2.662172</td>\n",
       "      <td>Neg</td>\n",
       "    </tr>\n",
       "    <tr>\n",
       "      <th>2018-01-04</th>\n",
       "      <td>-0.111922</td>\n",
       "      <td>0.372629</td>\n",
       "      <td>-1.188499</td>\n",
       "      <td>-2.243460</td>\n",
       "      <td>-3.171252</td>\n",
       "      <td>Neg</td>\n",
       "    </tr>\n",
       "    <tr>\n",
       "      <th>2018-01-05</th>\n",
       "      <td>0.712887</td>\n",
       "      <td>0.463138</td>\n",
       "      <td>1.418469</td>\n",
       "      <td>-1.899446</td>\n",
       "      <td>0.695049</td>\n",
       "      <td>Pos</td>\n",
       "    </tr>\n",
       "  </tbody>\n",
       "</table>\n",
       "</div>"
      ],
      "text/plain": [
       "                   A         B         C         D       Sum SumCheck\n",
       "2018-01-01 -0.990605 -0.240924 -0.974926  0.942489 -1.263966      Neg\n",
       "2018-01-02  0.663470  0.424833  0.073048  0.581711  1.743062      Pos\n",
       "2018-01-03 -1.319911 -0.477794 -0.244228 -0.620239 -2.662172      Neg\n",
       "2018-01-04 -0.111922  0.372629 -1.188499 -2.243460 -3.171252      Neg\n",
       "2018-01-05  0.712887  0.463138  1.418469 -1.899446  0.695049      Pos"
      ]
     },
     "execution_count": 51,
     "metadata": {},
     "output_type": "execute_result"
    }
   ],
   "source": [
    "# Note: original df is unchanged\n",
    "df.head()"
   ]
  },
  {
   "cell_type": "code",
   "execution_count": 52,
   "metadata": {},
   "outputs": [
    {
     "name": "stderr",
     "output_type": "stream",
     "text": [
      "/Users/billtubbs/anaconda/envs/py36/lib/python3.6/site-packages/pandas/core/indexing.py:543: SettingWithCopyWarning: \n",
      "A value is trying to be set on a copy of a slice from a DataFrame.\n",
      "Try using .loc[row_indexer,col_indexer] = value instead\n",
      "\n",
      "See the caveats in the documentation: http://pandas.pydata.org/pandas-docs/stable/indexing.html#indexing-view-versus-copy\n",
      "  self.obj[item] = s\n"
     ]
    },
    {
     "data": {
      "text/html": [
       "<div>\n",
       "<style scoped>\n",
       "    .dataframe tbody tr th:only-of-type {\n",
       "        vertical-align: middle;\n",
       "    }\n",
       "\n",
       "    .dataframe tbody tr th {\n",
       "        vertical-align: top;\n",
       "    }\n",
       "\n",
       "    .dataframe thead th {\n",
       "        text-align: right;\n",
       "    }\n",
       "</style>\n",
       "<table border=\"1\" class=\"dataframe\">\n",
       "  <thead>\n",
       "    <tr style=\"text-align: right;\">\n",
       "      <th></th>\n",
       "      <th>A</th>\n",
       "      <th>B</th>\n",
       "      <th>C</th>\n",
       "      <th>D</th>\n",
       "      <th>Sum</th>\n",
       "      <th>SumCheck</th>\n",
       "    </tr>\n",
       "  </thead>\n",
       "  <tbody>\n",
       "    <tr>\n",
       "      <th>2018-01-01</th>\n",
       "      <td>0.000000</td>\n",
       "      <td>0.000000</td>\n",
       "      <td>0.000000</td>\n",
       "      <td>0.000000</td>\n",
       "      <td>0.000000</td>\n",
       "      <td>0</td>\n",
       "    </tr>\n",
       "    <tr>\n",
       "      <th>2018-01-02</th>\n",
       "      <td>0.663470</td>\n",
       "      <td>0.424833</td>\n",
       "      <td>0.073048</td>\n",
       "      <td>0.581711</td>\n",
       "      <td>1.743062</td>\n",
       "      <td>Pos</td>\n",
       "    </tr>\n",
       "    <tr>\n",
       "      <th>2018-01-03</th>\n",
       "      <td>-1.319911</td>\n",
       "      <td>-0.477794</td>\n",
       "      <td>-0.244228</td>\n",
       "      <td>-0.620239</td>\n",
       "      <td>-2.662172</td>\n",
       "      <td>Neg</td>\n",
       "    </tr>\n",
       "    <tr>\n",
       "      <th>2018-01-04</th>\n",
       "      <td>-0.111922</td>\n",
       "      <td>0.372629</td>\n",
       "      <td>-1.188499</td>\n",
       "      <td>-2.243460</td>\n",
       "      <td>-3.171252</td>\n",
       "      <td>Neg</td>\n",
       "    </tr>\n",
       "    <tr>\n",
       "      <th>2018-01-05</th>\n",
       "      <td>0.712887</td>\n",
       "      <td>0.463138</td>\n",
       "      <td>1.418469</td>\n",
       "      <td>-1.899446</td>\n",
       "      <td>0.695049</td>\n",
       "      <td>Pos</td>\n",
       "    </tr>\n",
       "  </tbody>\n",
       "</table>\n",
       "</div>"
      ],
      "text/plain": [
       "                   A         B         C         D       Sum SumCheck\n",
       "2018-01-01  0.000000  0.000000  0.000000  0.000000  0.000000        0\n",
       "2018-01-02  0.663470  0.424833  0.073048  0.581711  1.743062      Pos\n",
       "2018-01-03 -1.319911 -0.477794 -0.244228 -0.620239 -2.662172      Neg\n",
       "2018-01-04 -0.111922  0.372629 -1.188499 -2.243460 -3.171252      Neg\n",
       "2018-01-05  0.712887  0.463138  1.418469 -1.899446  0.695049      Pos"
      ]
     },
     "execution_count": 52,
     "metadata": {},
     "output_type": "execute_result"
    }
   ],
   "source": [
    "# Another example...\n",
    "df2 = df.loc['2018-01-01':'2018-01-05', :]\n",
    "df2.loc['2018-01-01', :] = 0.0\n",
    "df2.head()"
   ]
  },
  {
   "cell_type": "code",
   "execution_count": 53,
   "metadata": {},
   "outputs": [
    {
     "data": {
      "text/html": [
       "<div>\n",
       "<style scoped>\n",
       "    .dataframe tbody tr th:only-of-type {\n",
       "        vertical-align: middle;\n",
       "    }\n",
       "\n",
       "    .dataframe tbody tr th {\n",
       "        vertical-align: top;\n",
       "    }\n",
       "\n",
       "    .dataframe thead th {\n",
       "        text-align: right;\n",
       "    }\n",
       "</style>\n",
       "<table border=\"1\" class=\"dataframe\">\n",
       "  <thead>\n",
       "    <tr style=\"text-align: right;\">\n",
       "      <th></th>\n",
       "      <th>A</th>\n",
       "      <th>B</th>\n",
       "      <th>C</th>\n",
       "      <th>D</th>\n",
       "      <th>Sum</th>\n",
       "      <th>SumCheck</th>\n",
       "    </tr>\n",
       "  </thead>\n",
       "  <tbody>\n",
       "    <tr>\n",
       "      <th>2018-01-01</th>\n",
       "      <td>0.000000</td>\n",
       "      <td>0.000000</td>\n",
       "      <td>0.000000</td>\n",
       "      <td>0.000000</td>\n",
       "      <td>0.000000</td>\n",
       "      <td>0</td>\n",
       "    </tr>\n",
       "    <tr>\n",
       "      <th>2018-01-02</th>\n",
       "      <td>0.663470</td>\n",
       "      <td>0.424833</td>\n",
       "      <td>0.073048</td>\n",
       "      <td>0.581711</td>\n",
       "      <td>1.743062</td>\n",
       "      <td>Pos</td>\n",
       "    </tr>\n",
       "    <tr>\n",
       "      <th>2018-01-03</th>\n",
       "      <td>-1.319911</td>\n",
       "      <td>-0.477794</td>\n",
       "      <td>-0.244228</td>\n",
       "      <td>-0.620239</td>\n",
       "      <td>-2.662172</td>\n",
       "      <td>Neg</td>\n",
       "    </tr>\n",
       "    <tr>\n",
       "      <th>2018-01-04</th>\n",
       "      <td>-0.111922</td>\n",
       "      <td>0.372629</td>\n",
       "      <td>-1.188499</td>\n",
       "      <td>-2.243460</td>\n",
       "      <td>-3.171252</td>\n",
       "      <td>Neg</td>\n",
       "    </tr>\n",
       "    <tr>\n",
       "      <th>2018-01-05</th>\n",
       "      <td>0.712887</td>\n",
       "      <td>0.463138</td>\n",
       "      <td>1.418469</td>\n",
       "      <td>-1.899446</td>\n",
       "      <td>0.695049</td>\n",
       "      <td>Pos</td>\n",
       "    </tr>\n",
       "  </tbody>\n",
       "</table>\n",
       "</div>"
      ],
      "text/plain": [
       "                   A         B         C         D       Sum SumCheck\n",
       "2018-01-01  0.000000  0.000000  0.000000  0.000000  0.000000        0\n",
       "2018-01-02  0.663470  0.424833  0.073048  0.581711  1.743062      Pos\n",
       "2018-01-03 -1.319911 -0.477794 -0.244228 -0.620239 -2.662172      Neg\n",
       "2018-01-04 -0.111922  0.372629 -1.188499 -2.243460 -3.171252      Neg\n",
       "2018-01-05  0.712887  0.463138  1.418469 -1.899446  0.695049      Pos"
      ]
     },
     "execution_count": 53,
     "metadata": {},
     "output_type": "execute_result"
    }
   ],
   "source": [
    "# This time it was a view (NOT a copy), so no warning\n",
    "# And df has now changed\n",
    "df.head()"
   ]
  },
  {
   "cell_type": "markdown",
   "metadata": {},
   "source": [
    "See [this Stackoverflow answer](https://stackoverflow.com/a/23296545/1609514) for rules about when pandas makes a view instead of a copy"
   ]
  },
  {
   "cell_type": "code",
   "execution_count": null,
   "metadata": {},
   "outputs": [],
   "source": []
  },
  {
   "cell_type": "code",
   "execution_count": null,
   "metadata": {},
   "outputs": [],
   "source": []
  },
  {
   "cell_type": "code",
   "execution_count": null,
   "metadata": {},
   "outputs": [],
   "source": []
  },
  {
   "cell_type": "code",
   "execution_count": null,
   "metadata": {},
   "outputs": [],
   "source": []
  },
  {
   "cell_type": "code",
   "execution_count": null,
   "metadata": {},
   "outputs": [],
   "source": []
  }
 ],
 "metadata": {
  "kernelspec": {
   "display_name": "Python (py36)",
   "language": "python",
   "name": "py36"
  },
  "language_info": {
   "codemirror_mode": {
    "name": "ipython",
    "version": 3
   },
   "file_extension": ".py",
   "mimetype": "text/x-python",
   "name": "python",
   "nbconvert_exporter": "python",
   "pygments_lexer": "ipython3",
   "version": "3.6.8"
  }
 },
 "nbformat": 4,
 "nbformat_minor": 2
}
