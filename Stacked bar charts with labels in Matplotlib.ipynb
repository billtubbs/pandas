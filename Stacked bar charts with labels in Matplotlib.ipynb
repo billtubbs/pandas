{
 "cells": [
  {
   "cell_type": "markdown",
   "metadata": {},
   "source": [
    "# Stacked Bar Charts With Labels in Matplotlib"
   ]
  },
  {
   "cell_type": "markdown",
   "metadata": {},
   "source": [
    "Stacked bar charts are a very efficient way of displaying data.  Much more efficient in terms of use of space than pie charts for example (you only need one stacked bar to display the same information that a pie-chart displays).  Also, because the human eye can compare linear distances much better than curve lengths, they are much more effective for comparing different quantities to each other."
   ]
  },
  {
   "cell_type": "markdown",
   "metadata": {},
   "source": [
    "Stacked bar charts are useful when you have multiple series of data of the same type (i.e. same units) and where each series can be considered to be a proportion of the whole quantity.  For example, to see the expenses of each person in a team over 12 months.  That total height of the stacked bars is the total expenses."
   ]
  },
  {
   "cell_type": "markdown",
   "metadata": {},
   "source": [
    "Unfortunately, stacked bar charts aren't that easy to produce in matplotlib (you have to specify the position of the bottom and top of each bar segment) and there is no built-in method to add value labels to each bar."
   ]
  },
  {
   "cell_type": "code",
   "execution_count": 1,
   "metadata": {},
   "outputs": [],
   "source": [
    "import matplotlib.pyplot as plt"
   ]
  },
  {
   "cell_type": "markdown",
   "metadata": {},
   "source": [
    "### Simple horizontal stacked one-bar chart"
   ]
  },
  {
   "cell_type": "code",
   "execution_count": 2,
   "metadata": {},
   "outputs": [
    {
     "data": {
      "image/png": "[encoded data removed]",
      "text/plain": [
       "<Figure size 720x144 with 1 Axes>"
      ]
     },
     "metadata": {
      "needs_background": "light"
     },
     "output_type": "display_data"
    }
   ],
   "source": [
    "plt.figure(figsize=(10, 2))\n",
    "\n",
    "ind = range(1)\n",
    "labels = ['Data A', 'Data B', 'Data C']\n",
    "data = [0.4, 0.9, 0.3]\n",
    "\n",
    "p1 = plt.barh(ind, data[0], label=labels[0])\n",
    "p2 = plt.barh(ind, data[1], left=data[0], label=labels[1])\n",
    "p3 = plt.barh(ind, data[2], left=data[0]+data[1], label=labels[1])\n",
    "\n",
    "plt.yticks(ind, ['Category'])\n",
    "plt.xlabel('Quantity')\n",
    "plt.legend()\n",
    "\n",
    "plt.savefig('bar1.png')\n",
    "plt.show()"
   ]
  },
  {
   "cell_type": "markdown",
   "metadata": {},
   "source": [
    "This is a good alternative to a pie-chart as it takes up less space.  However, as you can see above, it's a lot of code for such a simple plot."
   ]
  },
  {
   "cell_type": "markdown",
   "metadata": {},
   "source": [
    "## Pandas is a good solution"
   ]
  },
  {
   "cell_type": "markdown",
   "metadata": {},
   "source": [
    "It has to be said.  [Pandas](http://pandas.pydata.org/pandas-docs/stable/) is probably the easiest way to make a stacked bar chart.  But as yet there is no easy way to add value labels to the bar segments."
   ]
  },
  {
   "cell_type": "code",
   "execution_count": 3,
   "metadata": {},
   "outputs": [],
   "source": [
    "import pandas as pd"
   ]
  },
  {
   "cell_type": "code",
   "execution_count": 4,
   "metadata": {},
   "outputs": [
    {
     "data": {
      "image/png": "[encoded data removed]",
      "text/plain": [
       "<Figure size 720x144 with 1 Axes>"
      ]
     },
     "metadata": {
      "needs_background": "light"
     },
     "output_type": "display_data"
    }
   ],
   "source": [
    "data = {\n",
    "    'Data A': [0.4], \n",
    "    'Data B': [0.9], \n",
    "    'Data C': [0.3]\n",
    "}\n",
    "\n",
    "index = pd.Index(['Category'])\n",
    "\n",
    "df = pd.DataFrame(data, index=index)\n",
    "\n",
    "ax = df.plot(kind='barh', stacked=True, figsize=(10, 2))\n",
    "ax.set_xlabel(\"Quantity (units)\")\n",
    "\n",
    "plt.show()"
   ]
  },
  {
   "cell_type": "markdown",
   "metadata": {},
   "source": [
    "### Vertical stacked bar chart"
   ]
  },
  {
   "cell_type": "code",
   "execution_count": 5,
   "metadata": {},
   "outputs": [
    {
     "data": {
      "image/png": "[encoded data removed]",
      "text/plain": [
       "<Figure size 432x288 with 1 Axes>"
      ]
     },
     "metadata": {
      "needs_background": "light"
     },
     "output_type": "display_data"
    }
   ],
   "source": [
    "data = {\n",
    "    'Series 1': [0.2, 0.3, 0.35, 0.3],\n",
    "    'Series 2': [0.8, 0.7, 0.6, 0.5]\n",
    "}\n",
    "\n",
    "index = pd.Index(['Cat A', 'Cat B', 'Cat C', 'Cat D'])\n",
    "\n",
    "df = pd.DataFrame(data, index=index)\n",
    "\n",
    "ax = df.plot(kind='bar', stacked=True)\n",
    "ax.set_ylabel(\"Quantity (units)\")\n",
    "plt.grid()\n",
    "\n",
    "plt.show()"
   ]
  },
  {
   "cell_type": "markdown",
   "metadata": {},
   "source": [
    "### Functions for making horizontal and vertical stacked bar charts with value labels without using Pandas"
   ]
  },
  {
   "cell_type": "code",
   "execution_count": 6,
   "metadata": {},
   "outputs": [],
   "source": [
    "import numpy as np\n",
    "\n",
    "def plot_stacked_barh(data, series_labels, category_labels=None, \n",
    "                 show_values=False, value_format=\"{}\", x_label=None, \n",
    "                 colors=None, grid=True, reverse=False):\n",
    "    \"\"\"Plots a stacked horizontal bar chart with the data and labels\n",
    "    provided.\n",
    "    \n",
    "    Keyword arguments:\n",
    "    data            -- 2-dimensional numpy array or nested list\n",
    "                       containing data for each series in rows\n",
    "    series_labels   -- list of series labels (these appear in\n",
    "                       the legend)\n",
    "    category_labels -- list of category labels (these appear\n",
    "                       on the y-axis)\n",
    "    show_values     -- If True then numeric value labels will \n",
    "                       be shown on each bar\n",
    "    value_format    -- Format string for numeric value labels\n",
    "                       (default is \"{}\")\n",
    "    x_label         -- Label for x-axis (str)\n",
    "    colors          -- List of color labels\n",
    "    grid            -- If True display grid\n",
    "    reverse         -- If True reverse the order that the\n",
    "                       series are displayed (top-to-bottom\n",
    "                       or bottom-to-top)\n",
    "    \"\"\"\n",
    "\n",
    "    nx = len(data[0])\n",
    "    ind = list(range(nx))\n",
    "\n",
    "    axes = []\n",
    "    cum_size = np.zeros(nx)\n",
    "    \n",
    "    data = np.array(data)\n",
    "    \n",
    "    if reverse:\n",
    "        data = np.flip(data, axis=1)\n",
    "        category_labels = reversed(category_labels)\n",
    "    \n",
    "    for i, row_data in enumerate(data):\n",
    "        color = colors[i] if colors is not None else None\n",
    "        axes.append(plt.barh(ind, row_data, left=cum_size, \n",
    "                             label=series_labels[i], color=color))\n",
    "        cum_size += row_data\n",
    "\n",
    "    if category_labels:\n",
    "        plt.yticks(ind, category_labels)\n",
    "\n",
    "    if x_label:\n",
    "        plt.xlabel(x_label)\n",
    "    \n",
    "    plt.legend()\n",
    "    \n",
    "    if grid:\n",
    "        plt.grid()\n",
    "\n",
    "    if show_values:\n",
    "        for axis in axes:\n",
    "            for bar in axis:\n",
    "                w, h = bar.get_width(), bar.get_height()\n",
    "                plt.text(bar.get_x() + w/2, bar.get_y() + h/2, \n",
    "                         value_format.format(w), ha=\"center\", \n",
    "                         va=\"center\")\n",
    "\n",
    "def plot_stacked_bar(data, series_labels, category_labels=None, \n",
    "                     show_values=False, value_format=\"{}\", y_label=None, \n",
    "                     colors=None, grid=True, reverse=False):\n",
    "    \"\"\"Plots a stacked bar chart with the data and labels provided.\n",
    "\n",
    "    Keyword arguments:\n",
    "    data            -- 2-dimensional numpy array or nested list\n",
    "                       containing data for each series in rows\n",
    "    series_labels   -- list of series labels (these appear in\n",
    "                       the legend)\n",
    "    category_labels -- list of category labels (these appear\n",
    "                       on the x-axis)\n",
    "    show_values     -- If True then numeric value labels will \n",
    "                       be shown on each bar\n",
    "    value_format    -- Format string for numeric value labels\n",
    "                       (default is \"{}\")\n",
    "    y_label         -- Label for y-axis (str)\n",
    "    colors          -- List of color labels\n",
    "    grid            -- If True display grid\n",
    "    reverse         -- If True reverse the order that the\n",
    "                       series are displayed (left-to-right\n",
    "                       or right-to-left)\n",
    "    \"\"\"\n",
    "\n",
    "    ny = len(data[0])\n",
    "    ind = list(range(ny))\n",
    "\n",
    "    axes = []\n",
    "    cum_size = np.zeros(ny)\n",
    "\n",
    "    data = np.array(data)\n",
    "\n",
    "    if reverse:\n",
    "        data = np.flip(data, axis=1)\n",
    "        category_labels = reversed(category_labels)\n",
    "\n",
    "    for i, row_data in enumerate(data):\n",
    "        color = colors[i] if colors is not None else None\n",
    "        axes.append(plt.bar(ind, row_data, bottom=cum_size, \n",
    "                            label=series_labels[i], color=color))\n",
    "        cum_size += row_data\n",
    "\n",
    "    if category_labels:\n",
    "        plt.xticks(ind, category_labels)\n",
    "\n",
    "    if y_label:\n",
    "        plt.ylabel(y_label)\n",
    "\n",
    "    plt.legend()\n",
    "\n",
    "    if grid:\n",
    "        plt.grid()\n",
    "\n",
    "    if show_values:\n",
    "        for axis in axes:\n",
    "            for bar in axis:\n",
    "                w, h = bar.get_width(), bar.get_height()\n",
    "                plt.text(bar.get_x() + w/2, bar.get_y() + h/2, \n",
    "                         value_format.format(h), ha=\"center\", \n",
    "                         va=\"center\")\n"
   ]
  },
  {
   "cell_type": "code",
   "execution_count": 7,
   "metadata": {},
   "outputs": [
    {
     "data": {
      "image/png": "[encoded data removed]",
      "text/plain": [
       "<Figure size 720x144 with 1 Axes>"
      ]
     },
     "metadata": {
      "needs_background": "light"
     },
     "output_type": "display_data"
    }
   ],
   "source": [
    "plt.figure(figsize=(10, 2))\n",
    "\n",
    "series_labels = ['Series 1', 'Series 2']\n",
    "\n",
    "data = [\n",
    "    [0.4, 0.3],\n",
    "    [0.6, 0.7]\n",
    "]\n",
    "\n",
    "category_labels = ['Cat A', 'Cat B']\n",
    "\n",
    "plot_stacked_barh(\n",
    "    data, \n",
    "    series_labels, \n",
    "    category_labels=category_labels, \n",
    "    show_values=True, \n",
    "    value_format=\"{:.1f}\",\n",
    "    x_label=\"Quantity (units)\",\n",
    "    reverse=True\n",
    ")\n",
    "\n",
    "plt.savefig('bar2.png')\n",
    "plt.show()"
   ]
  },
  {
   "cell_type": "code",
   "execution_count": 8,
   "metadata": {},
   "outputs": [
    {
     "data": {
      "image/png": "[encoded data removed]",
      "text/plain": [
       "<Figure size 432x288 with 1 Axes>"
      ]
     },
     "metadata": {
      "needs_background": "light"
     },
     "output_type": "display_data"
    }
   ],
   "source": [
    "plt.figure(figsize=(6, 4))\n",
    "\n",
    "series_labels = ['Series 1', 'Series 2']\n",
    "\n",
    "data = [\n",
    "    [0.2, 0.3, 0.35, 0.3],\n",
    "    [0.8, 0.7, 0.6, 0.5]\n",
    "]\n",
    "\n",
    "category_labels = ['Cat A', 'Cat B', 'Cat C', 'Cat D']\n",
    "\n",
    "plot_stacked_bar(\n",
    "    data, \n",
    "    series_labels, \n",
    "    category_labels=category_labels, \n",
    "    show_values=True, \n",
    "    value_format=\"{:.1f}\",\n",
    "    y_label=\"Quantity (units)\",\n",
    "    colors=['tab:orange', 'tab:green'],\n",
    ")\n",
    "\n",
    "plt.savefig('bar3.png')\n",
    "plt.show()"
   ]
  },
  {
   "cell_type": "markdown",
   "metadata": {},
   "source": [
    "# Same in Seaborn"
   ]
  },
  {
   "cell_type": "markdown",
   "metadata": {},
   "source": [
    "Seaborn is a nice tool for making plots in different styles with more subtle colours."
   ]
  },
  {
   "cell_type": "code",
   "execution_count": 9,
   "metadata": {},
   "outputs": [
    {
     "data": {
      "image/png": "[encoded data removed]",
      "text/plain": [
       "<Figure size 720x144 with 1 Axes>"
      ]
     },
     "metadata": {
      "needs_background": "light"
     },
     "output_type": "display_data"
    }
   ],
   "source": [
    "import seaborn as sns\n",
    "\n",
    "plt.figure(figsize=(10, 2))\n",
    "\n",
    "data = [\n",
    "    [0.4, 0.3],\n",
    "    [0.6, 0.7]\n",
    "]\n",
    "\n",
    "plot_stacked_barh(\n",
    "    data, \n",
    "    series_labels=['Series 1', 'Series 2'], \n",
    "    category_labels=['Cat A', 'Cat B'], \n",
    "    show_values=True, \n",
    "    value_format=\"{:.1f}\",\n",
    "    reverse=True\n",
    ")\n",
    "\n",
    "plt.legend(frameon=True) # turned off by default in Seaborn\n",
    "\n",
    "plt.savefig('bar4.png')\n",
    "plt.show()"
   ]
  },
  {
   "cell_type": "code",
   "execution_count": null,
   "metadata": {},
   "outputs": [],
   "source": []
  },
  {
   "cell_type": "code",
   "execution_count": null,
   "metadata": {},
   "outputs": [],
   "source": []
  },
  {
   "cell_type": "code",
   "execution_count": null,
   "metadata": {},
   "outputs": [],
   "source": []
  }
 ],
 "metadata": {
  "kernelspec": {
   "display_name": "Python 3",
   "language": "python",
   "name": "python3"
  },
  "language_info": {
   "codemirror_mode": {
    "name": "ipython",
    "version": 3
   },
   "file_extension": ".py",
   "mimetype": "text/x-python",
   "name": "python",
   "nbconvert_exporter": "python",
   "pygments_lexer": "ipython3",
   "version": "3.7.3"
  }
 },
 "nbformat": 4,
 "nbformat_minor": 2
}
